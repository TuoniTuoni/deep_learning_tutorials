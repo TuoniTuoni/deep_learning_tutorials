{
  "nbformat": 4,
  "nbformat_minor": 0,
  "metadata": {
    "colab": {
      "name": "pytorch_data_processing.ipynb",
      "provenance": []
    },
    "kernelspec": {
      "name": "python3",
      "display_name": "Python 3"
    },
    "language_info": {
      "name": "python"
    }
  },
  "cells": [
    {
      "cell_type": "code",
      "metadata": {
        "id": "MeR_oT1Mr9Nc"
      },
      "source": [
        "import torch"
      ],
      "execution_count": 1,
      "outputs": []
    },
    {
      "cell_type": "code",
      "metadata": {
        "colab": {
          "base_uri": "https://localhost:8080/"
        },
        "id": "9aGnRdfktiDG",
        "outputId": "9140b413-a107-423a-b2c3-8b68ae429d97"
      },
      "source": [
        "x = torch.arange(12)\n",
        "print(x)\n",
        "print(x[0])\n",
        "print(type(x[0]))\n",
        "print(type(x))\n",
        "print(x[0].dtype)\n",
        "print(x.dtype)\n",
        "print(x.shape)\n",
        "print(x.numel())"
      ],
      "execution_count": 15,
      "outputs": [
        {
          "output_type": "stream",
          "text": [
            "tensor([ 0,  1,  2,  3,  4,  5,  6,  7,  8,  9, 10, 11])\n",
            "tensor(0)\n",
            "<class 'torch.Tensor'>\n",
            "<class 'torch.Tensor'>\n",
            "torch.int64\n",
            "torch.int64\n",
            "torch.Size([12])\n",
            "12\n"
          ],
          "name": "stdout"
        }
      ]
    },
    {
      "cell_type": "code",
      "metadata": {
        "colab": {
          "base_uri": "https://localhost:8080/"
        },
        "id": "DdwDxRYXvYX9",
        "outputId": "2bdf5df3-cb63-4029-8e04-01cd06358294"
      },
      "source": [
        "X = x.reshape(3, 4)\n",
        "print(X)"
      ],
      "execution_count": 16,
      "outputs": [
        {
          "output_type": "stream",
          "text": [
            "tensor([[ 0,  1,  2,  3],\n",
            "        [ 4,  5,  6,  7],\n",
            "        [ 8,  9, 10, 11]])\n"
          ],
          "name": "stdout"
        }
      ]
    },
    {
      "cell_type": "code",
      "metadata": {
        "colab": {
          "base_uri": "https://localhost:8080/"
        },
        "id": "lSgHVSp5tiFl",
        "outputId": "b19472cd-f7b8-40e9-abae-e4b578033493"
      },
      "source": [
        "y = torch.tensor([0.1,0.2,0.3])\n",
        "print(y)\n",
        "print(y.dtype)"
      ],
      "execution_count": 13,
      "outputs": [
        {
          "output_type": "stream",
          "text": [
            "tensor([0.1000, 0.2000, 0.3000])\n",
            "torch.float32\n"
          ],
          "name": "stdout"
        }
      ]
    },
    {
      "cell_type": "code",
      "metadata": {
        "colab": {
          "base_uri": "https://localhost:8080/"
        },
        "id": "hjFCPR_9tiIZ",
        "outputId": "3c286ce3-39c0-46db-c5a7-8ced3869dd90"
      },
      "source": [
        "print(torch.zeros(2,3,4))"
      ],
      "execution_count": 17,
      "outputs": [
        {
          "output_type": "stream",
          "text": [
            "tensor([[[0., 0., 0., 0.],\n",
            "         [0., 0., 0., 0.],\n",
            "         [0., 0., 0., 0.]],\n",
            "\n",
            "        [[0., 0., 0., 0.],\n",
            "         [0., 0., 0., 0.],\n",
            "         [0., 0., 0., 0.]]])\n"
          ],
          "name": "stdout"
        }
      ]
    },
    {
      "cell_type": "code",
      "metadata": {
        "colab": {
          "base_uri": "https://localhost:8080/"
        },
        "id": "iQUKAxFotiK9",
        "outputId": "bb6f375a-543b-4db0-88c0-9fc794c1100f"
      },
      "source": [
        "print(torch.ones(2,3,4))\n",
        "print(torch.ones(2,3,4).dtype)"
      ],
      "execution_count": 20,
      "outputs": [
        {
          "output_type": "stream",
          "text": [
            "tensor([[[1., 1., 1., 1.],\n",
            "         [1., 1., 1., 1.],\n",
            "         [1., 1., 1., 1.]],\n",
            "\n",
            "        [[1., 1., 1., 1.],\n",
            "         [1., 1., 1., 1.],\n",
            "         [1., 1., 1., 1.]]])\n",
            "torch.float32\n"
          ],
          "name": "stdout"
        }
      ]
    },
    {
      "cell_type": "code",
      "metadata": {
        "colab": {
          "base_uri": "https://localhost:8080/"
        },
        "id": "xIwmYjlKtiNi",
        "outputId": "dc17e3ba-dfea-41c5-e8a3-aa8e1284d22d"
      },
      "source": [
        "#Each of its elements is randomly sampled from a standard Gaussian (normal) distribution with a mean of 0 and a standard deviation of 1.\n",
        "print(torch.randn(3,4))"
      ],
      "execution_count": 22,
      "outputs": [
        {
          "output_type": "stream",
          "text": [
            "tensor([[ 1.1249,  0.7133,  0.7921, -0.7354],\n",
            "        [-1.3470, -0.5395, -0.2937,  0.2744],\n",
            "        [ 0.1525,  0.5048, -0.8443,  0.5925]])\n"
          ],
          "name": "stdout"
        }
      ]
    },
    {
      "cell_type": "code",
      "metadata": {
        "colab": {
          "base_uri": "https://localhost:8080/"
        },
        "id": "wgv-k0EatiQJ",
        "outputId": "7b5503bb-f7d1-4bb9-96b7-7253f60031fb"
      },
      "source": [
        "print(torch.tensor([[2,1,4,3],[3,4,5,8],[8,9,5,3]]))"
      ],
      "execution_count": 23,
      "outputs": [
        {
          "output_type": "stream",
          "text": [
            "tensor([[2, 1, 4, 3],\n",
            "        [3, 4, 5, 8],\n",
            "        [8, 9, 5, 3]])\n"
          ],
          "name": "stdout"
        }
      ]
    },
    {
      "cell_type": "markdown",
      "metadata": {
        "id": "0sIoix5RyXYC"
      },
      "source": [
        "# Operations"
      ]
    },
    {
      "cell_type": "markdown",
      "metadata": {
        "id": "od8C3iMbysYe"
      },
      "source": [
        "## elementwise operations"
      ]
    },
    {
      "cell_type": "code",
      "metadata": {
        "colab": {
          "base_uri": "https://localhost:8080/"
        },
        "id": "ATxN64t7tiSj",
        "outputId": "441e1115-b9ed-4caa-9846-1922c15a5930"
      },
      "source": [
        "x = torch.tensor([1.0,2,4,8])\n",
        "y = torch.tensor([2,2,2,2])\n",
        "print(x+y)\n",
        "print(x-y)\n",
        "print(x*y)\n",
        "print(x/y)\n",
        "print(x**y)"
      ],
      "execution_count": 24,
      "outputs": [
        {
          "output_type": "stream",
          "text": [
            "tensor([ 3.,  4.,  6., 10.])\n",
            "tensor([-1.,  0.,  2.,  6.])\n",
            "tensor([ 2.,  4.,  8., 16.])\n",
            "tensor([0.5000, 1.0000, 2.0000, 4.0000])\n",
            "tensor([ 1.,  4., 16., 64.])\n"
          ],
          "name": "stdout"
        }
      ]
    },
    {
      "cell_type": "code",
      "metadata": {
        "colab": {
          "base_uri": "https://localhost:8080/"
        },
        "id": "3H-hGAZ5tiU9",
        "outputId": "e8a9be6a-9406-4675-b83e-b14448432813"
      },
      "source": [
        "print(torch.exp(x))"
      ],
      "execution_count": 25,
      "outputs": [
        {
          "output_type": "stream",
          "text": [
            "tensor([2.7183e+00, 7.3891e+00, 5.4598e+01, 2.9810e+03])\n"
          ],
          "name": "stdout"
        }
      ]
    },
    {
      "cell_type": "code",
      "metadata": {
        "colab": {
          "base_uri": "https://localhost:8080/"
        },
        "id": "fIgFBaUgtiXb",
        "outputId": "951ca2d0-fe7b-4473-eb7a-8dcfa3378ca5"
      },
      "source": [
        "X = torch.arange(12, dtype=torch.float32).reshape((3, 4))\n",
        "Y = torch.tensor([[2.0, 1, 4, 3], [1, 2, 3, 4], [4, 3, 2, 1]])\n",
        "print(X)\n",
        "print(Y)\n",
        "print(torch.cat((X, Y), dim = 0))\n",
        "print(torch.cat((X, Y), dim = 1))"
      ],
      "execution_count": 30,
      "outputs": [
        {
          "output_type": "stream",
          "text": [
            "tensor([[ 0.,  1.,  2.,  3.],\n",
            "        [ 4.,  5.,  6.,  7.],\n",
            "        [ 8.,  9., 10., 11.]])\n",
            "tensor([[2., 1., 4., 3.],\n",
            "        [1., 2., 3., 4.],\n",
            "        [4., 3., 2., 1.]])\n",
            "tensor([[ 0.,  1.,  2.,  3.],\n",
            "        [ 4.,  5.,  6.,  7.],\n",
            "        [ 8.,  9., 10., 11.],\n",
            "        [ 2.,  1.,  4.,  3.],\n",
            "        [ 1.,  2.,  3.,  4.],\n",
            "        [ 4.,  3.,  2.,  1.]])\n",
            "tensor([[ 0.,  1.,  2.,  3.,  2.,  1.,  4.,  3.],\n",
            "        [ 4.,  5.,  6.,  7.,  1.,  2.,  3.,  4.],\n",
            "        [ 8.,  9., 10., 11.,  4.,  3.,  2.,  1.]])\n"
          ],
          "name": "stdout"
        }
      ]
    },
    {
      "cell_type": "code",
      "metadata": {
        "colab": {
          "base_uri": "https://localhost:8080/"
        },
        "id": "3H3uDzE1tiZ5",
        "outputId": "c017ffa0-917c-48d6-b86e-21d5b961845c"
      },
      "source": [
        "print(X == Y)"
      ],
      "execution_count": 31,
      "outputs": [
        {
          "output_type": "stream",
          "text": [
            "tensor([[False,  True, False,  True],\n",
            "        [False, False, False, False],\n",
            "        [False, False, False, False]])\n"
          ],
          "name": "stdout"
        }
      ]
    },
    {
      "cell_type": "code",
      "metadata": {
        "colab": {
          "base_uri": "https://localhost:8080/"
        },
        "id": "cM8D-MOjtici",
        "outputId": "103490d6-423a-425e-eb5e-9c5fcefd1f77"
      },
      "source": [
        "print(X.sum())"
      ],
      "execution_count": 32,
      "outputs": [
        {
          "output_type": "stream",
          "text": [
            "tensor(66.)\n"
          ],
          "name": "stdout"
        }
      ]
    },
    {
      "cell_type": "markdown",
      "metadata": {
        "id": "24wgHXns7VxB"
      },
      "source": [
        "## Broadcasting Mechanism"
      ]
    },
    {
      "cell_type": "code",
      "metadata": {
        "colab": {
          "base_uri": "https://localhost:8080/"
        },
        "id": "7c4v-gXXtiew",
        "outputId": "a6f3686f-0777-4204-fbcb-318e4e17e321"
      },
      "source": [
        "a = torch.arange(3).reshape((3, 1))\n",
        "b = torch.arange(2).reshape((1, 2))\n",
        "print(a)\n",
        "print(b)"
      ],
      "execution_count": 33,
      "outputs": [
        {
          "output_type": "stream",
          "text": [
            "tensor([[0],\n",
            "        [1],\n",
            "        [2]])\n",
            "tensor([[0, 1]])\n"
          ],
          "name": "stdout"
        }
      ]
    },
    {
      "cell_type": "code",
      "metadata": {
        "colab": {
          "base_uri": "https://localhost:8080/"
        },
        "id": "mUGNrS940NUo",
        "outputId": "fdfa7e66-4c59-4347-fe51-e6d26bb5e13b"
      },
      "source": [
        "print(a + b)"
      ],
      "execution_count": 34,
      "outputs": [
        {
          "output_type": "stream",
          "text": [
            "tensor([[0, 1],\n",
            "        [1, 2],\n",
            "        [2, 3]])\n"
          ],
          "name": "stdout"
        }
      ]
    },
    {
      "cell_type": "markdown",
      "metadata": {
        "id": "KhPvB26m7cRB"
      },
      "source": [
        "## indexing and slicing"
      ]
    },
    {
      "cell_type": "code",
      "metadata": {
        "colab": {
          "base_uri": "https://localhost:8080/"
        },
        "id": "-kUG5PL40NXm",
        "outputId": "7da66e3c-0597-41b2-89cd-57894aef06c5"
      },
      "source": [
        "print(X)\n",
        "print(X[-1])\n",
        "print(X[1:3])"
      ],
      "execution_count": 35,
      "outputs": [
        {
          "output_type": "stream",
          "text": [
            "tensor([[ 0.,  1.,  2.,  3.],\n",
            "        [ 4.,  5.,  6.,  7.],\n",
            "        [ 8.,  9., 10., 11.]])\n",
            "tensor([ 8.,  9., 10., 11.])\n",
            "tensor([[ 4.,  5.,  6.,  7.],\n",
            "        [ 8.,  9., 10., 11.]])\n"
          ],
          "name": "stdout"
        }
      ]
    },
    {
      "cell_type": "code",
      "metadata": {
        "colab": {
          "base_uri": "https://localhost:8080/"
        },
        "id": "IZbTQOG-0NZ6",
        "outputId": "12c3dc15-7e8d-490f-e2bb-0d7bf2f0d27f"
      },
      "source": [
        "X[1, 2] = 9\n",
        "print(X)"
      ],
      "execution_count": 36,
      "outputs": [
        {
          "output_type": "stream",
          "text": [
            "tensor([[ 0.,  1.,  2.,  3.],\n",
            "        [ 4.,  5.,  9.,  7.],\n",
            "        [ 8.,  9., 10., 11.]])\n"
          ],
          "name": "stdout"
        }
      ]
    },
    {
      "cell_type": "code",
      "metadata": {
        "colab": {
          "base_uri": "https://localhost:8080/"
        },
        "id": "dEQ83Esz0Nku",
        "outputId": "f16d2df7-f5ba-4e39-b166-550378bd9ad5"
      },
      "source": [
        "X[0:2, :] = 12\n",
        "print(X)"
      ],
      "execution_count": 37,
      "outputs": [
        {
          "output_type": "stream",
          "text": [
            "tensor([[12., 12., 12., 12.],\n",
            "        [12., 12., 12., 12.],\n",
            "        [ 8.,  9., 10., 11.]])\n"
          ],
          "name": "stdout"
        }
      ]
    },
    {
      "cell_type": "markdown",
      "metadata": {
        "id": "KJeftVkr7hTg"
      },
      "source": [
        "## Saving Memory"
      ]
    },
    {
      "cell_type": "code",
      "metadata": {
        "colab": {
          "base_uri": "https://localhost:8080/"
        },
        "id": "K65lpDZl0NnO",
        "outputId": "9010abc6-fdcb-44e8-ac64-5fbb257966e4"
      },
      "source": [
        "before = id(Y)\n",
        "Y = Y + X\n",
        "id(Y) == before"
      ],
      "execution_count": 38,
      "outputs": [
        {
          "output_type": "execute_result",
          "data": {
            "text/plain": [
              "False"
            ]
          },
          "metadata": {
            "tags": []
          },
          "execution_count": 38
        }
      ]
    },
    {
      "cell_type": "code",
      "metadata": {
        "colab": {
          "base_uri": "https://localhost:8080/"
        },
        "id": "NMExN_pB2Zj8",
        "outputId": "81e9e81b-79cb-479e-e1ff-22428fe318c9"
      },
      "source": [
        "Z = torch.zeros_like(Y)\n",
        "print('id(Z):', id(Z))\n",
        "Z[:] = X + Y\n",
        "print('id(Z):', id(Z))"
      ],
      "execution_count": 41,
      "outputs": [
        {
          "output_type": "stream",
          "text": [
            "id(Z): 140409995621792\n",
            "id(Z): 140409995621792\n"
          ],
          "name": "stdout"
        }
      ]
    },
    {
      "cell_type": "code",
      "metadata": {
        "colab": {
          "base_uri": "https://localhost:8080/"
        },
        "id": "dJFdvHx02Zm8",
        "outputId": "9ebef6e9-2d2f-44a7-d2dc-03617272a364"
      },
      "source": [
        "Z = torch.zeros_like(Y)\n",
        "print('id(Z):', id(Z))\n",
        "Z = X + Y\n",
        "print('id(Z):', id(Z))"
      ],
      "execution_count": 42,
      "outputs": [
        {
          "output_type": "stream",
          "text": [
            "id(Z): 140409995408000\n",
            "id(Z): 140409995410960\n"
          ],
          "name": "stdout"
        }
      ]
    },
    {
      "cell_type": "code",
      "metadata": {
        "colab": {
          "base_uri": "https://localhost:8080/"
        },
        "id": "6i_oR7Vz2ZpX",
        "outputId": "eb81c029-5142-43b3-b566-a6ff91aa2e04"
      },
      "source": [
        "before = id(X)\n",
        "X += Y\n",
        "id(X) == before"
      ],
      "execution_count": 43,
      "outputs": [
        {
          "output_type": "execute_result",
          "data": {
            "text/plain": [
              "True"
            ]
          },
          "metadata": {
            "tags": []
          },
          "execution_count": 43
        }
      ]
    },
    {
      "cell_type": "code",
      "metadata": {
        "colab": {
          "base_uri": "https://localhost:8080/"
        },
        "id": "ZFXj9e6z2Zxc",
        "outputId": "cc165526-7491-4b05-edb5-5c2cfcb7bd44"
      },
      "source": [
        "before = id(X)\n",
        "X = X + Y\n",
        "id(X) == before"
      ],
      "execution_count": 44,
      "outputs": [
        {
          "output_type": "execute_result",
          "data": {
            "text/plain": [
              "False"
            ]
          },
          "metadata": {
            "tags": []
          },
          "execution_count": 44
        }
      ]
    },
    {
      "cell_type": "code",
      "metadata": {
        "colab": {
          "base_uri": "https://localhost:8080/"
        },
        "id": "8o-8B55m3JX9",
        "outputId": "db41026c-8ccf-4fef-bbee-b655dd65c553"
      },
      "source": [
        "before = id(X)\n",
        "X[:] = X + Y\n",
        "id(X) == before"
      ],
      "execution_count": 45,
      "outputs": [
        {
          "output_type": "execute_result",
          "data": {
            "text/plain": [
              "True"
            ]
          },
          "metadata": {
            "tags": []
          },
          "execution_count": 45
        }
      ]
    },
    {
      "cell_type": "markdown",
      "metadata": {
        "id": "YFWmvpcb7ob9"
      },
      "source": [
        "## The Conversion between Numpy and Tensor"
      ]
    },
    {
      "cell_type": "code",
      "metadata": {
        "colab": {
          "base_uri": "https://localhost:8080/"
        },
        "id": "1yDljg1g3JbA",
        "outputId": "a242fb96-d492-4d94-bd77-70cf9f2fd670"
      },
      "source": [
        "print(X)\n",
        "A = X.numpy()\n",
        "print(A)\n",
        "B = torch.tensor(A)\n",
        "print(type(A))\n",
        "print(type(B))\n",
        "print(id(A))\n",
        "print(id(B))"
      ],
      "execution_count": 59,
      "outputs": [
        {
          "output_type": "stream",
          "text": [
            "tensor([[54., 51., 60., 57.],\n",
            "        [51., 54., 57., 60.],\n",
            "        [44., 45., 46., 47.]])\n",
            "[[54. 51. 60. 57.]\n",
            " [51. 54. 57. 60.]\n",
            " [44. 45. 46. 47.]]\n",
            "<class 'numpy.ndarray'>\n",
            "<class 'torch.Tensor'>\n",
            "140409995162928\n",
            "140409995600672\n"
          ],
          "name": "stdout"
        }
      ]
    },
    {
      "cell_type": "code",
      "metadata": {
        "colab": {
          "base_uri": "https://localhost:8080/"
        },
        "id": "GkG5UY_w6SYp",
        "outputId": "1de34e43-f7b7-4c3d-d9e1-44cf475847d4"
      },
      "source": [
        "np.add(A, 1, out = A)\n",
        "print(A)\n",
        "print(B)"
      ],
      "execution_count": 60,
      "outputs": [
        {
          "output_type": "stream",
          "text": [
            "[[55. 52. 61. 58.]\n",
            " [52. 55. 58. 61.]\n",
            " [45. 46. 47. 48.]]\n",
            "tensor([[54., 51., 60., 57.],\n",
            "        [51., 54., 57., 60.],\n",
            "        [44., 45., 46., 47.]])\n"
          ],
          "name": "stdout"
        }
      ]
    },
    {
      "cell_type": "code",
      "metadata": {
        "colab": {
          "base_uri": "https://localhost:8080/"
        },
        "id": "sEd_3-vX5h6s",
        "outputId": "9398d638-64e7-4924-b0b9-bf54350ec9d4"
      },
      "source": [
        "print(A)\n",
        "print(B)\n",
        "B = B + torch.tensor([1,1,1,1])\n",
        "print(B)\n",
        "print(A)"
      ],
      "execution_count": 57,
      "outputs": [
        {
          "output_type": "stream",
          "text": [
            "[[54. 51. 60. 57.]\n",
            " [51. 54. 57. 60.]\n",
            " [44. 45. 46. 47.]]\n",
            "tensor([[54., 51., 60., 57.],\n",
            "        [51., 54., 57., 60.],\n",
            "        [44., 45., 46., 47.]])\n",
            "tensor([[55., 52., 61., 58.],\n",
            "        [52., 55., 58., 61.],\n",
            "        [45., 46., 47., 48.]])\n",
            "[[54. 51. 60. 57.]\n",
            " [51. 54. 57. 60.]\n",
            " [44. 45. 46. 47.]]\n"
          ],
          "name": "stdout"
        }
      ]
    },
    {
      "cell_type": "code",
      "metadata": {
        "colab": {
          "base_uri": "https://localhost:8080/"
        },
        "id": "8tS2J9K94EcN",
        "outputId": "8ae88dcb-2589-4af5-80a9-047bbe2351a9"
      },
      "source": [
        "a = torch.ones(5)\n",
        "print(a)\n",
        "b = a.numpy()\n",
        "print(b)\n",
        "a.add_(1)\n",
        "print(a)\n",
        "print(b)\n",
        "print(id(a))\n",
        "print(id(b))\n",
        "np.add(b, 1, out = b)\n",
        "print(\"b:\",b)\n",
        "print(\"a:\",a)"
      ],
      "execution_count": 62,
      "outputs": [
        {
          "output_type": "stream",
          "text": [
            "tensor([1., 1., 1., 1., 1.])\n",
            "[1. 1. 1. 1. 1.]\n",
            "tensor([2., 2., 2., 2., 2.])\n",
            "[2. 2. 2. 2. 2.]\n",
            "140409994965232\n",
            "140409994968000\n",
            "b: [3. 3. 3. 3. 3.]\n",
            "a: tensor([3., 3., 3., 3., 3.])\n"
          ],
          "name": "stdout"
        }
      ]
    },
    {
      "cell_type": "code",
      "metadata": {
        "colab": {
          "base_uri": "https://localhost:8080/"
        },
        "id": "7BMq42ml4Egs",
        "outputId": "cb00b033-e5f2-4438-c35c-b80eb1de8c63"
      },
      "source": [
        "import numpy as np\n",
        "a = np.ones(5)\n",
        "b = torch.from_numpy(a)\n",
        "np.add(a, 1, out = a)\n",
        "print(a)\n",
        "print(b)\n",
        "print(id(a))\n",
        "print(id(b))"
      ],
      "execution_count": 55,
      "outputs": [
        {
          "output_type": "stream",
          "text": [
            "[2. 2. 2. 2. 2.]\n",
            "tensor([2., 2., 2., 2., 2.], dtype=torch.float64)\n",
            "140409995121168\n",
            "140409995406544\n"
          ],
          "name": "stdout"
        }
      ]
    },
    {
      "cell_type": "code",
      "metadata": {
        "colab": {
          "base_uri": "https://localhost:8080/"
        },
        "id": "3AJZKO4Q47JB",
        "outputId": "0d29c0af-a7df-498c-dc97-743c7a4cef79"
      },
      "source": [
        "print(a)\n",
        "print(a)\n",
        "b = b + torch.tensor([1,1,1,1,1])\n",
        "print(b)\n",
        "print(a)"
      ],
      "execution_count": 58,
      "outputs": [
        {
          "output_type": "stream",
          "text": [
            "[2. 2. 2. 2. 2.]\n",
            "[2. 2. 2. 2. 2.]\n",
            "tensor([3., 3., 3., 3., 3.], dtype=torch.float64)\n",
            "[2. 2. 2. 2. 2.]\n"
          ],
          "name": "stdout"
        }
      ]
    },
    {
      "cell_type": "markdown",
      "metadata": {
        "id": "qSQ_WMwpAOsy"
      },
      "source": [
        "# Using Pandas to genarate csv file\n",
        "\n"
      ]
    },
    {
      "cell_type": "code",
      "metadata": {
        "id": "wOVHuam378AQ"
      },
      "source": [
        "import os\n",
        "os.makedirs(os.path.join('..','data'),exist_ok = True)\n",
        "data_file = os.path.join('..', 'data', 'housing_tiny.csv')\n",
        "with open(data_file, 'w') as f:\n",
        "    f.write('NumRooms,Alley,Price\\n')  # Column names\n",
        "    f.write('NA,Pave,127500\\n')  # Each row represents a data example\n",
        "    f.write('2,NA,106000\\n')\n",
        "    f.write('4,NA,178100\\n')\n",
        "    f.write('NA,NA,140000\\n')"
      ],
      "execution_count": 66,
      "outputs": []
    },
    {
      "cell_type": "code",
      "metadata": {
        "colab": {
          "base_uri": "https://localhost:8080/"
        },
        "id": "kKyKDe9h78Dc",
        "outputId": "331080d3-8078-43ba-932f-782399d035a3"
      },
      "source": [
        "import pandas as pd\n",
        "data = pd.read_csv(data_file)\n",
        "print(data)"
      ],
      "execution_count": 67,
      "outputs": [
        {
          "output_type": "stream",
          "text": [
            "   NumRooms Alley   Price\n",
            "0       NaN  Pave  127500\n",
            "1       2.0   NaN  106000\n",
            "2       4.0   NaN  178100\n",
            "3       NaN   NaN  140000\n"
          ],
          "name": "stdout"
        }
      ]
    },
    {
      "cell_type": "markdown",
      "metadata": {
        "id": "BZSysbHrAeCs"
      },
      "source": [
        "## Handling Missing Data\n",
        "* two methods\n",
        "> * Imputation\n",
        "> * Deletion"
      ]
    },
    {
      "cell_type": "markdown",
      "metadata": {
        "id": "fyc6ZBGJAvqC"
      },
      "source": [
        "### Imputation"
      ]
    },
    {
      "cell_type": "code",
      "metadata": {
        "colab": {
          "base_uri": "https://localhost:8080/"
        },
        "id": "seFFC9ML78GB",
        "outputId": "dbf1f05d-5bab-42ae-e045-5a17f7b56271"
      },
      "source": [
        "inputs, outputs = data.iloc[:, 0:2], data.iloc[:, 2]\n",
        "inputs = inputs.fillna(inputs.mean())\n",
        "print(inputs)"
      ],
      "execution_count": 68,
      "outputs": [
        {
          "output_type": "stream",
          "text": [
            "   NumRooms Alley\n",
            "0       3.0  Pave\n",
            "1       2.0   NaN\n",
            "2       4.0   NaN\n",
            "3       3.0   NaN\n"
          ],
          "name": "stdout"
        }
      ]
    },
    {
      "cell_type": "code",
      "metadata": {
        "colab": {
          "base_uri": "https://localhost:8080/"
        },
        "id": "HL_CerMv78Im",
        "outputId": "af128ed0-9da0-46b8-dc42-c898edebbeeb"
      },
      "source": [
        "inputs = pd.get_dummies(inputs, dummy_na = True)\n",
        "print(inputs)"
      ],
      "execution_count": 69,
      "outputs": [
        {
          "output_type": "stream",
          "text": [
            "   NumRooms  Alley_Pave  Alley_nan\n",
            "0       3.0           1          0\n",
            "1       2.0           0          1\n",
            "2       4.0           0          1\n",
            "3       3.0           0          1\n"
          ],
          "name": "stdout"
        }
      ]
    },
    {
      "cell_type": "code",
      "metadata": {
        "colab": {
          "base_uri": "https://localhost:8080/"
        },
        "id": "6biuY1T-_lNs",
        "outputId": "f232d4e9-a81c-4f82-dc20-1f5884adf2a2"
      },
      "source": [
        "print(inputs.values)\n",
        "print(type(inputs.values))"
      ],
      "execution_count": 71,
      "outputs": [
        {
          "output_type": "stream",
          "text": [
            "[[3. 1. 0.]\n",
            " [2. 0. 1.]\n",
            " [4. 0. 1.]\n",
            " [3. 0. 1.]]\n",
            "<class 'numpy.ndarray'>\n"
          ],
          "name": "stdout"
        }
      ]
    },
    {
      "cell_type": "code",
      "metadata": {
        "colab": {
          "base_uri": "https://localhost:8080/"
        },
        "id": "ODHCVVmV_lVA",
        "outputId": "d64d0e5c-6882-429e-808a-ac621e768816"
      },
      "source": [
        "print(outputs.values)\n",
        "print(type(outputs.values))"
      ],
      "execution_count": 73,
      "outputs": [
        {
          "output_type": "stream",
          "text": [
            "[127500 106000 178100 140000]\n",
            "<class 'numpy.ndarray'>\n"
          ],
          "name": "stdout"
        }
      ]
    },
    {
      "cell_type": "markdown",
      "metadata": {
        "id": "IRzcbfj9A4W6"
      },
      "source": [
        "## Conversion to Tensor Format"
      ]
    },
    {
      "cell_type": "code",
      "metadata": {
        "colab": {
          "base_uri": "https://localhost:8080/"
        },
        "id": "iRxMQoze78Kp",
        "outputId": "20e79d18-06b9-475b-9e8f-4bc98df854f3"
      },
      "source": [
        "import torch\n",
        "X, y = torch.tensor(inputs.values), torch.tensor(outputs.values)\n",
        "print(X)\n",
        "print(y)\n",
        "print(y.dtype)"
      ],
      "execution_count": 75,
      "outputs": [
        {
          "output_type": "stream",
          "text": [
            "tensor([[3., 1., 0.],\n",
            "        [2., 0., 1.],\n",
            "        [4., 0., 1.],\n",
            "        [3., 0., 1.]], dtype=torch.float64)\n",
            "tensor([127500, 106000, 178100, 140000])\n",
            "torch.int64\n"
          ],
          "name": "stdout"
        }
      ]
    },
    {
      "cell_type": "code",
      "metadata": {
        "colab": {
          "base_uri": "https://localhost:8080/"
        },
        "id": "euicvQOK78M9",
        "outputId": "9ddf37fe-9727-4903-ff2b-fb4f37b1a8e6"
      },
      "source": [
        "demo = torch.tensor([1,2,3,4,5])\n",
        "print(demo)\n",
        "demo_one = np.array([1,2,3,5])\n",
        "print(demo_one)\n",
        "demo_one_out = torch.tensor(demo_one)\n",
        "demo_one_out"
      ],
      "execution_count": 79,
      "outputs": [
        {
          "output_type": "stream",
          "text": [
            "tensor([1, 2, 3, 4, 5])\n",
            "[1 2 3 5]\n"
          ],
          "name": "stdout"
        },
        {
          "output_type": "execute_result",
          "data": {
            "text/plain": [
              "tensor([1, 2, 3, 5])"
            ]
          },
          "metadata": {
            "tags": []
          },
          "execution_count": 79
        }
      ]
    },
    {
      "cell_type": "code",
      "metadata": {
        "id": "JXNxombI78P1"
      },
      "source": [
        ""
      ],
      "execution_count": null,
      "outputs": []
    },
    {
      "cell_type": "code",
      "metadata": {
        "id": "tHTPNnL878SQ"
      },
      "source": [
        ""
      ],
      "execution_count": 68,
      "outputs": []
    }
  ]
}