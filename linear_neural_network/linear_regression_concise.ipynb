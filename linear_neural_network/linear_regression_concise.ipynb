{
  "nbformat": 4,
  "nbformat_minor": 0,
  "metadata": {
    "kernelspec": {
      "display_name": "Python 3",
      "name": "python3"
    },
    "language_info": {
      "name": "python"
    },
    "colab": {
      "name": "linear-regression-concise.ipynb",
      "provenance": []
    }
  },
  "cells": [
    {
      "cell_type": "markdown",
      "metadata": {
        "id": "Cr15PgqCeQz5"
      },
      "source": [
        "The following additional libraries are needed to run this\n",
        "notebook. Note that running on Colab is experimental, please report a Github\n",
        "issue if you have any problem."
      ]
    },
    {
      "cell_type": "code",
      "metadata": {
        "id": "AssQKQubeQz9",
        "outputId": "2c8e73db-eb4e-425f-dc88-8553a25b21c3",
        "colab": {
          "base_uri": "https://localhost:8080/"
        }
      },
      "source": [
        "!pip install d2l==0.16.7\n"
      ],
      "execution_count": 1,
      "outputs": [
        {
          "output_type": "stream",
          "text": [
            "Collecting d2l==0.16.7\n",
            "  Downloading d2l-0.16.7-py3-none-any.whl (83 kB)\n",
            "\u001b[?25l\r\u001b[K     |████                            | 10 kB 24.5 MB/s eta 0:00:01\r\u001b[K     |███████▉                        | 20 kB 28.1 MB/s eta 0:00:01\r\u001b[K     |███████████▉                    | 30 kB 19.9 MB/s eta 0:00:01\r\u001b[K     |███████████████▊                | 40 kB 13.3 MB/s eta 0:00:01\r\u001b[K     |███████████████████▊            | 51 kB 5.6 MB/s eta 0:00:01\r\u001b[K     |███████████████████████▋        | 61 kB 5.6 MB/s eta 0:00:01\r\u001b[K     |███████████████████████████▋    | 71 kB 6.1 MB/s eta 0:00:01\r\u001b[K     |███████████████████████████████▌| 81 kB 6.2 MB/s eta 0:00:01\r\u001b[K     |████████████████████████████████| 83 kB 1.1 MB/s \n",
            "\u001b[?25hRequirement already satisfied: pandas in /usr/local/lib/python3.7/dist-packages (from d2l==0.16.7) (1.1.5)\n",
            "Requirement already satisfied: matplotlib in /usr/local/lib/python3.7/dist-packages (from d2l==0.16.7) (3.2.2)\n",
            "Requirement already satisfied: numpy in /usr/local/lib/python3.7/dist-packages (from d2l==0.16.7) (1.19.5)\n",
            "Requirement already satisfied: jupyter in /usr/local/lib/python3.7/dist-packages (from d2l==0.16.7) (1.0.0)\n",
            "Requirement already satisfied: requests in /usr/local/lib/python3.7/dist-packages (from d2l==0.16.7) (2.23.0)\n",
            "Requirement already satisfied: notebook in /usr/local/lib/python3.7/dist-packages (from jupyter->d2l==0.16.7) (5.3.1)\n",
            "Requirement already satisfied: ipywidgets in /usr/local/lib/python3.7/dist-packages (from jupyter->d2l==0.16.7) (7.6.3)\n",
            "Requirement already satisfied: jupyter-console in /usr/local/lib/python3.7/dist-packages (from jupyter->d2l==0.16.7) (5.2.0)\n",
            "Requirement already satisfied: qtconsole in /usr/local/lib/python3.7/dist-packages (from jupyter->d2l==0.16.7) (5.1.1)\n",
            "Requirement already satisfied: nbconvert in /usr/local/lib/python3.7/dist-packages (from jupyter->d2l==0.16.7) (5.6.1)\n",
            "Requirement already satisfied: ipykernel in /usr/local/lib/python3.7/dist-packages (from jupyter->d2l==0.16.7) (4.10.1)\n",
            "Requirement already satisfied: traitlets>=4.1.0 in /usr/local/lib/python3.7/dist-packages (from ipykernel->jupyter->d2l==0.16.7) (5.0.5)\n",
            "Requirement already satisfied: jupyter-client in /usr/local/lib/python3.7/dist-packages (from ipykernel->jupyter->d2l==0.16.7) (5.3.5)\n",
            "Requirement already satisfied: tornado>=4.0 in /usr/local/lib/python3.7/dist-packages (from ipykernel->jupyter->d2l==0.16.7) (5.1.1)\n",
            "Requirement already satisfied: ipython>=4.0.0 in /usr/local/lib/python3.7/dist-packages (from ipykernel->jupyter->d2l==0.16.7) (5.5.0)\n",
            "Requirement already satisfied: prompt-toolkit<2.0.0,>=1.0.4 in /usr/local/lib/python3.7/dist-packages (from ipython>=4.0.0->ipykernel->jupyter->d2l==0.16.7) (1.0.18)\n",
            "Requirement already satisfied: decorator in /usr/local/lib/python3.7/dist-packages (from ipython>=4.0.0->ipykernel->jupyter->d2l==0.16.7) (4.4.2)\n",
            "Requirement already satisfied: simplegeneric>0.8 in /usr/local/lib/python3.7/dist-packages (from ipython>=4.0.0->ipykernel->jupyter->d2l==0.16.7) (0.8.1)\n",
            "Requirement already satisfied: setuptools>=18.5 in /usr/local/lib/python3.7/dist-packages (from ipython>=4.0.0->ipykernel->jupyter->d2l==0.16.7) (57.2.0)\n",
            "Requirement already satisfied: pickleshare in /usr/local/lib/python3.7/dist-packages (from ipython>=4.0.0->ipykernel->jupyter->d2l==0.16.7) (0.7.5)\n",
            "Requirement already satisfied: pygments in /usr/local/lib/python3.7/dist-packages (from ipython>=4.0.0->ipykernel->jupyter->d2l==0.16.7) (2.6.1)\n",
            "Requirement already satisfied: pexpect in /usr/local/lib/python3.7/dist-packages (from ipython>=4.0.0->ipykernel->jupyter->d2l==0.16.7) (4.8.0)\n",
            "Requirement already satisfied: wcwidth in /usr/local/lib/python3.7/dist-packages (from prompt-toolkit<2.0.0,>=1.0.4->ipython>=4.0.0->ipykernel->jupyter->d2l==0.16.7) (0.2.5)\n",
            "Requirement already satisfied: six>=1.9.0 in /usr/local/lib/python3.7/dist-packages (from prompt-toolkit<2.0.0,>=1.0.4->ipython>=4.0.0->ipykernel->jupyter->d2l==0.16.7) (1.15.0)\n",
            "Requirement already satisfied: ipython-genutils in /usr/local/lib/python3.7/dist-packages (from traitlets>=4.1.0->ipykernel->jupyter->d2l==0.16.7) (0.2.0)\n",
            "Requirement already satisfied: nbformat>=4.2.0 in /usr/local/lib/python3.7/dist-packages (from ipywidgets->jupyter->d2l==0.16.7) (5.1.3)\n",
            "Requirement already satisfied: widgetsnbextension~=3.5.0 in /usr/local/lib/python3.7/dist-packages (from ipywidgets->jupyter->d2l==0.16.7) (3.5.1)\n",
            "Requirement already satisfied: jupyterlab-widgets>=1.0.0 in /usr/local/lib/python3.7/dist-packages (from ipywidgets->jupyter->d2l==0.16.7) (1.0.0)\n",
            "Requirement already satisfied: jsonschema!=2.5.0,>=2.4 in /usr/local/lib/python3.7/dist-packages (from nbformat>=4.2.0->ipywidgets->jupyter->d2l==0.16.7) (2.6.0)\n",
            "Requirement already satisfied: jupyter-core in /usr/local/lib/python3.7/dist-packages (from nbformat>=4.2.0->ipywidgets->jupyter->d2l==0.16.7) (4.7.1)\n",
            "Requirement already satisfied: Send2Trash in /usr/local/lib/python3.7/dist-packages (from notebook->jupyter->d2l==0.16.7) (1.7.1)\n",
            "Requirement already satisfied: jinja2 in /usr/local/lib/python3.7/dist-packages (from notebook->jupyter->d2l==0.16.7) (2.11.3)\n",
            "Requirement already satisfied: terminado>=0.8.1 in /usr/local/lib/python3.7/dist-packages (from notebook->jupyter->d2l==0.16.7) (0.10.1)\n",
            "Requirement already satisfied: pyzmq>=13 in /usr/local/lib/python3.7/dist-packages (from jupyter-client->ipykernel->jupyter->d2l==0.16.7) (22.1.0)\n",
            "Requirement already satisfied: python-dateutil>=2.1 in /usr/local/lib/python3.7/dist-packages (from jupyter-client->ipykernel->jupyter->d2l==0.16.7) (2.8.1)\n",
            "Requirement already satisfied: ptyprocess in /usr/local/lib/python3.7/dist-packages (from terminado>=0.8.1->notebook->jupyter->d2l==0.16.7) (0.7.0)\n",
            "Requirement already satisfied: MarkupSafe>=0.23 in /usr/local/lib/python3.7/dist-packages (from jinja2->notebook->jupyter->d2l==0.16.7) (2.0.1)\n",
            "Requirement already satisfied: pyparsing!=2.0.4,!=2.1.2,!=2.1.6,>=2.0.1 in /usr/local/lib/python3.7/dist-packages (from matplotlib->d2l==0.16.7) (2.4.7)\n",
            "Requirement already satisfied: kiwisolver>=1.0.1 in /usr/local/lib/python3.7/dist-packages (from matplotlib->d2l==0.16.7) (1.3.1)\n",
            "Requirement already satisfied: cycler>=0.10 in /usr/local/lib/python3.7/dist-packages (from matplotlib->d2l==0.16.7) (0.10.0)\n",
            "Requirement already satisfied: pandocfilters>=1.4.1 in /usr/local/lib/python3.7/dist-packages (from nbconvert->jupyter->d2l==0.16.7) (1.4.3)\n",
            "Requirement already satisfied: mistune<2,>=0.8.1 in /usr/local/lib/python3.7/dist-packages (from nbconvert->jupyter->d2l==0.16.7) (0.8.4)\n",
            "Requirement already satisfied: entrypoints>=0.2.2 in /usr/local/lib/python3.7/dist-packages (from nbconvert->jupyter->d2l==0.16.7) (0.3)\n",
            "Requirement already satisfied: testpath in /usr/local/lib/python3.7/dist-packages (from nbconvert->jupyter->d2l==0.16.7) (0.5.0)\n",
            "Requirement already satisfied: bleach in /usr/local/lib/python3.7/dist-packages (from nbconvert->jupyter->d2l==0.16.7) (3.3.0)\n",
            "Requirement already satisfied: defusedxml in /usr/local/lib/python3.7/dist-packages (from nbconvert->jupyter->d2l==0.16.7) (0.7.1)\n",
            "Requirement already satisfied: packaging in /usr/local/lib/python3.7/dist-packages (from bleach->nbconvert->jupyter->d2l==0.16.7) (21.0)\n",
            "Requirement already satisfied: webencodings in /usr/local/lib/python3.7/dist-packages (from bleach->nbconvert->jupyter->d2l==0.16.7) (0.5.1)\n",
            "Requirement already satisfied: pytz>=2017.2 in /usr/local/lib/python3.7/dist-packages (from pandas->d2l==0.16.7) (2018.9)\n",
            "Requirement already satisfied: qtpy in /usr/local/lib/python3.7/dist-packages (from qtconsole->jupyter->d2l==0.16.7) (1.9.0)\n",
            "Requirement already satisfied: chardet<4,>=3.0.2 in /usr/local/lib/python3.7/dist-packages (from requests->d2l==0.16.7) (3.0.4)\n",
            "Requirement already satisfied: urllib3!=1.25.0,!=1.25.1,<1.26,>=1.21.1 in /usr/local/lib/python3.7/dist-packages (from requests->d2l==0.16.7) (1.24.3)\n",
            "Requirement already satisfied: certifi>=2017.4.17 in /usr/local/lib/python3.7/dist-packages (from requests->d2l==0.16.7) (2021.5.30)\n",
            "Requirement already satisfied: idna<3,>=2.5 in /usr/local/lib/python3.7/dist-packages (from requests->d2l==0.16.7) (2.10)\n",
            "Installing collected packages: d2l\n",
            "Successfully installed d2l-0.16.7\n"
          ],
          "name": "stdout"
        }
      ]
    },
    {
      "cell_type": "markdown",
      "metadata": {
        "origin_pos": 0,
        "id": "KKRR_UPveQz-"
      },
      "source": [
        "# Concise Implementation of Linear Regression\n",
        ":label:`sec_linear_concise`\n",
        "\n",
        "Broad and intense interest in deep learning for the past several years\n",
        "has inspired companies, academics, and hobbyists\n",
        "to develop a variety of mature open source frameworks\n",
        "for automating the repetitive work of implementing\n",
        "gradient-based learning algorithms.\n",
        "In :numref:`sec_linear_scratch`, we relied only on\n",
        "(i) tensors for data storage and linear algebra;\n",
        "and (ii) auto differentiation for calculating gradients.\n",
        "In practice, because data iterators, loss functions, optimizers,\n",
        "and neural network layers\n",
        "are so common, modern libraries implement these components for us as well.\n",
        "\n",
        "In this section, (**we will show you how to implement\n",
        "the linear regression model**) from :numref:`sec_linear_scratch`\n",
        "(**concisely by using high-level APIs**) of deep learning frameworks.\n",
        "\n",
        "\n",
        "## Generating the Dataset\n",
        "\n",
        "To start, we will generate the same dataset as in :numref:`sec_linear_scratch`.\n"
      ]
    },
    {
      "cell_type": "code",
      "metadata": {
        "origin_pos": 2,
        "tab": [
          "pytorch"
        ],
        "id": "1TV_imbNeQz_"
      },
      "source": [
        "import numpy as np\n",
        "import torch\n",
        "from torch.utils import data\n",
        "from d2l import torch as d2l"
      ],
      "execution_count": 2,
      "outputs": []
    },
    {
      "cell_type": "code",
      "metadata": {
        "origin_pos": 4,
        "tab": [
          "pytorch"
        ],
        "id": "akhV-rwKeQ0A"
      },
      "source": [
        "true_w = torch.tensor([2, -3.4])\n",
        "true_b = 4.2\n",
        "features, labels = d2l.synthetic_data(true_w, true_b, 1000)"
      ],
      "execution_count": 3,
      "outputs": []
    },
    {
      "cell_type": "markdown",
      "metadata": {
        "origin_pos": 5,
        "id": "eJuq00y5eQ0A"
      },
      "source": [
        "## Reading the Dataset\n",
        "\n",
        "Rather than rolling our own iterator,\n",
        "we can [**call upon the existing API in a framework to read data.**]\n",
        "We pass in `features` and `labels` as arguments and specify `batch_size`\n",
        "when instantiating a data iterator object.\n",
        "Besides, the boolean value `is_train`\n",
        "indicates whether or not\n",
        "we want the data iterator object to shuffle the data\n",
        "on each epoch (pass through the dataset).\n"
      ]
    },
    {
      "cell_type": "code",
      "metadata": {
        "origin_pos": 7,
        "tab": [
          "pytorch"
        ],
        "id": "KhVYjca7eQ0B"
      },
      "source": [
        "def load_array(data_arrays, batch_size, is_train=True):  #@save\n",
        "    \"\"\"Construct a PyTorch data iterator.\"\"\"\n",
        "    dataset = data.TensorDataset(*data_arrays)\n",
        "    return data.DataLoader(dataset, batch_size, shuffle=is_train)"
      ],
      "execution_count": 4,
      "outputs": []
    },
    {
      "cell_type": "code",
      "metadata": {
        "origin_pos": 9,
        "tab": [
          "pytorch"
        ],
        "id": "vOCslnyqeQ0C"
      },
      "source": [
        "batch_size = 10\n",
        "data_iter = load_array((features, labels), batch_size)"
      ],
      "execution_count": 5,
      "outputs": []
    },
    {
      "cell_type": "markdown",
      "metadata": {
        "origin_pos": 10,
        "id": "-rctiN-VeQ0D"
      },
      "source": [
        "Now we can use `data_iter` in much the same way as we called\n",
        "the `data_iter` function in :numref:`sec_linear_scratch`.\n",
        "To verify that it is working, we can read and print\n",
        "the first minibatch of examples.\n",
        "Comparing with :numref:`sec_linear_scratch`,\n",
        "here we use `iter` to construct a Python iterator and use `next` to obtain the first item from the iterator.\n"
      ]
    },
    {
      "cell_type": "code",
      "metadata": {
        "origin_pos": 11,
        "tab": [
          "pytorch"
        ],
        "id": "42GyLuAkeQ0D",
        "outputId": "f0454625-a2d7-4b51-cc1b-945dd56a25c9",
        "colab": {
          "base_uri": "https://localhost:8080/"
        }
      },
      "source": [
        "next(iter(data_iter))"
      ],
      "execution_count": 6,
      "outputs": [
        {
          "output_type": "execute_result",
          "data": {
            "text/plain": [
              "[tensor([[-0.3672,  0.5671],\n",
              "         [ 0.1396, -0.3956],\n",
              "         [ 2.4983, -0.9314],\n",
              "         [ 0.3609,  1.7178],\n",
              "         [-1.2267,  0.8745],\n",
              "         [-1.5572,  0.4608],\n",
              "         [ 0.5581, -0.7589],\n",
              "         [ 0.3940,  0.6282],\n",
              "         [-0.0297, -0.5528],\n",
              "         [-1.3779,  1.7450]]), tensor([[ 1.5122],\n",
              "         [ 5.8231],\n",
              "         [12.3548],\n",
              "         [-0.9146],\n",
              "         [-1.2169],\n",
              "         [-0.4852],\n",
              "         [ 7.8867],\n",
              "         [ 2.8524],\n",
              "         [ 6.0161],\n",
              "         [-4.4865]])]"
            ]
          },
          "metadata": {
            "tags": []
          },
          "execution_count": 6
        }
      ]
    },
    {
      "cell_type": "markdown",
      "metadata": {
        "origin_pos": 12,
        "id": "UnXJG1ngeQ0F"
      },
      "source": [
        "## Defining the Model\n",
        "\n",
        "When we implemented linear regression from scratch\n",
        "in :numref:`sec_linear_scratch`,\n",
        "we defined our model parameters explicitly\n",
        "and coded up the calculations to produce output\n",
        "using basic linear algebra operations.\n",
        "You *should* know how to do this.\n",
        "But once your models get more complex,\n",
        "and once you have to do this nearly every day,\n",
        "you will be glad for the assistance.\n",
        "The situation is similar to coding up your own blog from scratch.\n",
        "Doing it once or twice is rewarding and instructive,\n",
        "but you would be a lousy web developer\n",
        "if every time you needed a blog you spent a month\n",
        "reinventing the wheel.\n",
        "\n",
        "For standard operations, we can [**use a framework's predefined layers,**]\n",
        "which allow us to focus especially\n",
        "on the layers used to construct the model\n",
        "rather than having to focus on the implementation.\n",
        "We will first define a model variable `net`,\n",
        "which will refer to an instance of the `Sequential` class.\n",
        "The `Sequential` class defines a container\n",
        "for several layers that will be chained together.\n",
        "Given input data, a `Sequential` instance passes it through\n",
        "the first layer, in turn passing the output\n",
        "as the second layer's input and so forth.\n",
        "In the following example, our model consists of only one layer,\n",
        "so we do not really need `Sequential`.\n",
        "But since nearly all of our future models\n",
        "will involve multiple layers,\n",
        "we will use it anyway just to familiarize you\n",
        "with the most standard workflow.\n",
        "\n",
        "Recall the architecture of a single-layer network as shown in :numref:`fig_single_neuron`.\n",
        "The layer is said to be *fully-connected*\n",
        "because each of its inputs is connected to each of its outputs\n",
        "by means of a matrix-vector multiplication.\n"
      ]
    },
    {
      "cell_type": "markdown",
      "metadata": {
        "origin_pos": 14,
        "tab": [
          "pytorch"
        ],
        "id": "smaOEn_ReQ0F"
      },
      "source": [
        "In PyTorch, the fully-connected layer is defined in the `Linear` class. Note that we passed two arguments into `nn.Linear`. The first one specifies the input feature dimension, which is 2, and the second one is the output feature dimension, which is a single scalar and therefore 1.\n"
      ]
    },
    {
      "cell_type": "code",
      "metadata": {
        "origin_pos": 17,
        "tab": [
          "pytorch"
        ],
        "id": "1DtwrLboeQ0G"
      },
      "source": [
        "# `nn` is an abbreviation for neural networks\n",
        "from torch import nn\n",
        "\n",
        "net = nn.Sequential(nn.Linear(2, 1))"
      ],
      "execution_count": 7,
      "outputs": []
    },
    {
      "cell_type": "markdown",
      "metadata": {
        "origin_pos": 19,
        "id": "atAc-fp7eQ0H"
      },
      "source": [
        "## Initializing Model Parameters\n",
        "\n",
        "Before using `net`, we need to (**initialize the model parameters,**)\n",
        "such as the weights and bias in the linear regression model.\n",
        "Deep learning frameworks often have a predefined way to initialize the parameters.\n",
        "Here we specify that each weight parameter\n",
        "should be randomly sampled from a normal distribution\n",
        "with mean 0 and standard deviation 0.01.\n",
        "The bias parameter will be initialized to zero.\n"
      ]
    },
    {
      "cell_type": "markdown",
      "metadata": {
        "origin_pos": 21,
        "tab": [
          "pytorch"
        ],
        "id": "zkKryVzLeQ0H"
      },
      "source": [
        "As we have specified the input and output dimensions when constructing `nn.Linear`,\n",
        "now we can access the parameters directly to specify their initial values.\n",
        "We first locate the layer by `net[0]`, which is the first layer in the network,\n",
        "and then use the `weight.data` and `bias.data` methods to access the parameters.\n",
        "Next we use the replace methods `normal_` and `fill_` to overwrite parameter values.\n"
      ]
    },
    {
      "cell_type": "code",
      "metadata": {
        "origin_pos": 24,
        "tab": [
          "pytorch"
        ],
        "id": "j2bXcZy4eQ0I",
        "outputId": "043c652c-fd5b-4bc3-e2df-268fc2a26c0b",
        "colab": {
          "base_uri": "https://localhost:8080/"
        }
      },
      "source": [
        "net[0].weight.data.normal_(0, 0.01)\n"
      ],
      "execution_count": 15,
      "outputs": [
        {
          "output_type": "execute_result",
          "data": {
            "text/plain": [
              "tensor([[-0.0009,  0.0038]])"
            ]
          },
          "metadata": {
            "tags": []
          },
          "execution_count": 15
        }
      ]
    },
    {
      "cell_type": "code",
      "metadata": {
        "id": "ejYfv_P5enye",
        "outputId": "d24b4064-d64a-4a9d-c78b-12b52df71715",
        "colab": {
          "base_uri": "https://localhost:8080/"
        }
      },
      "source": [
        "net[0].bias.data.fill_(0)"
      ],
      "execution_count": 16,
      "outputs": [
        {
          "output_type": "execute_result",
          "data": {
            "text/plain": [
              "tensor([0.])"
            ]
          },
          "metadata": {
            "tags": []
          },
          "execution_count": 16
        }
      ]
    },
    {
      "cell_type": "code",
      "metadata": {
        "id": "t1Dqm5Fiev1G",
        "outputId": "0c4ddc75-7d2a-4e7b-ce95-d02de1089995",
        "colab": {
          "base_uri": "https://localhost:8080/"
        }
      },
      "source": [
        "net[0]"
      ],
      "execution_count": 17,
      "outputs": [
        {
          "output_type": "execute_result",
          "data": {
            "text/plain": [
              "Linear(in_features=2, out_features=1, bias=True)"
            ]
          },
          "metadata": {
            "tags": []
          },
          "execution_count": 17
        }
      ]
    },
    {
      "cell_type": "markdown",
      "metadata": {
        "origin_pos": 27,
        "tab": [
          "pytorch"
        ],
        "id": "nFtKeAReeQ0I"
      },
      "source": [
        "\n"
      ]
    },
    {
      "cell_type": "markdown",
      "metadata": {
        "origin_pos": 29,
        "id": "JGVGlx01eQ0J"
      },
      "source": [
        "## Defining the Loss Function\n"
      ]
    },
    {
      "cell_type": "markdown",
      "metadata": {
        "origin_pos": 31,
        "tab": [
          "pytorch"
        ],
        "id": "40J_SpE2eQ0J"
      },
      "source": [
        "[**The `MSELoss` class computes the mean squared error, also known as squared $L_2$ norm.**]\n",
        "By default it returns the average loss over examples.\n"
      ]
    },
    {
      "cell_type": "code",
      "metadata": {
        "origin_pos": 34,
        "tab": [
          "pytorch"
        ],
        "id": "bgte1n0seQ0J"
      },
      "source": [
        "loss = nn.MSELoss()"
      ],
      "execution_count": 9,
      "outputs": []
    },
    {
      "cell_type": "markdown",
      "metadata": {
        "origin_pos": 36,
        "id": "MWSYBnPoeQ0J"
      },
      "source": [
        "## Defining the Optimization Algorithm\n"
      ]
    },
    {
      "cell_type": "markdown",
      "metadata": {
        "origin_pos": 38,
        "tab": [
          "pytorch"
        ],
        "id": "0B9WdC61eQ0K"
      },
      "source": [
        "Minibatch stochastic gradient descent is a standard tool\n",
        "for optimizing neural networks\n",
        "and thus PyTorch supports it alongside a number of\n",
        "variations on this algorithm in the `optim` module.\n",
        "When we (**instantiate an `SGD` instance,**)\n",
        "we will specify the parameters to optimize over\n",
        "(obtainable from our net via `net.parameters()`), with a dictionary of hyperparameters\n",
        "required by our optimization algorithm.\n",
        "Minibatch stochastic gradient descent just requires that\n",
        "we set the value `lr`, which is set to 0.03 here.\n"
      ]
    },
    {
      "cell_type": "code",
      "metadata": {
        "origin_pos": 41,
        "tab": [
          "pytorch"
        ],
        "id": "2WKg9SZneQ0K"
      },
      "source": [
        "trainer = torch.optim.SGD(net.parameters(), lr=0.03)"
      ],
      "execution_count": 10,
      "outputs": []
    },
    {
      "cell_type": "markdown",
      "metadata": {
        "origin_pos": 43,
        "id": "Xa9twNgqeQ0K"
      },
      "source": [
        "## Training\n",
        "\n",
        "You might have noticed that expressing our model through\n",
        "high-level APIs of a deep learning framework\n",
        "requires comparatively few lines of code.\n",
        "We did not have to individually allocate parameters,\n",
        "define our loss function, or implement minibatch stochastic gradient descent.\n",
        "Once we start working with much more complex models,\n",
        "advantages of high-level APIs will grow considerably.\n",
        "However, once we have all the basic pieces in place,\n",
        "[**the training loop itself is strikingly similar\n",
        "to what we did when implementing everything from scratch.**]\n",
        "\n",
        "To refresh your memory: for some number of epochs,\n",
        "we will make a complete pass over the dataset (`train_data`),\n",
        "iteratively grabbing one minibatch of inputs\n",
        "and the corresponding ground-truth labels.\n",
        "For each minibatch, we go through the following ritual:\n",
        "\n",
        "* Generate predictions by calling `net(X)` and calculate the loss `l` (the forward propagation).\n",
        "* Calculate gradients by running the backpropagation.\n",
        "* Update the model parameters by invoking our optimizer.\n",
        "\n",
        "For good measure, we compute the loss after each epoch and print it to monitor progress.\n"
      ]
    },
    {
      "cell_type": "code",
      "metadata": {
        "origin_pos": 45,
        "tab": [
          "pytorch"
        ],
        "id": "twqUsvL2eQ0L",
        "outputId": "5685e1c7-a8f2-4a5f-dba1-fa92af12f8b4",
        "colab": {
          "base_uri": "https://localhost:8080/"
        }
      },
      "source": [
        "num_epochs = 3\n",
        "for epoch in range(num_epochs):\n",
        "    for X, y in data_iter:\n",
        "        l = loss(net(X), y)\n",
        "        trainer.zero_grad()\n",
        "        l.backward()\n",
        "        trainer.step()\n",
        "    l = loss(net(features), labels)\n",
        "    print(f'epoch {epoch + 1}, loss {l:f}')"
      ],
      "execution_count": 11,
      "outputs": [
        {
          "output_type": "stream",
          "text": [
            "epoch 1, loss 0.000276\n",
            "epoch 2, loss 0.000113\n",
            "epoch 3, loss 0.000114\n"
          ],
          "name": "stdout"
        }
      ]
    },
    {
      "cell_type": "markdown",
      "metadata": {
        "origin_pos": 47,
        "id": "Efk0EruAeQ0L"
      },
      "source": [
        "Below, we [**compare the model parameters learned by training on finite data\n",
        "and the actual parameters**] that generated our dataset.\n",
        "To access parameters,\n",
        "we first access the layer that we need from `net`\n",
        "and then access that layer's weights and bias.\n",
        "As in our from-scratch implementation,\n",
        "note that our estimated parameters are\n",
        "close to their ground-truth counterparts.\n"
      ]
    },
    {
      "cell_type": "code",
      "metadata": {
        "origin_pos": 49,
        "tab": [
          "pytorch"
        ],
        "id": "KEH5OupXeQ0L",
        "outputId": "3de5dc79-6710-4c7e-e436-8f56ec8f6edf",
        "colab": {
          "base_uri": "https://localhost:8080/"
        }
      },
      "source": [
        "w = net[0].weight.data\n",
        "print('error in estimating w:', true_w - w.reshape(true_w.shape))\n",
        "b = net[0].bias.data\n",
        "print('error in estimating b:', true_b - b)"
      ],
      "execution_count": 12,
      "outputs": [
        {
          "output_type": "stream",
          "text": [
            "error in estimating w: tensor([0.0008, 0.0010])\n",
            "error in estimating b: tensor([0.0004])\n"
          ],
          "name": "stdout"
        }
      ]
    },
    {
      "cell_type": "markdown",
      "metadata": {
        "origin_pos": 51,
        "id": "Jg-w7-6geQ0M"
      },
      "source": [
        "## Summary\n"
      ]
    },
    {
      "cell_type": "markdown",
      "metadata": {
        "origin_pos": 53,
        "tab": [
          "pytorch"
        ],
        "id": "9evPnCVHeQ0M"
      },
      "source": [
        "* Using PyTorch's high-level APIs, we can implement models much more concisely.\n",
        "* In PyTorch, the `data` module provides tools for data processing, the `nn` module defines a large number of neural network layers and common loss functions.\n",
        "* We can initialize the parameters by replacing their values with methods ending with `_`.\n"
      ]
    },
    {
      "cell_type": "markdown",
      "metadata": {
        "origin_pos": 55,
        "id": "wQ4zLappeQ0M"
      },
      "source": [
        "## Exercises\n"
      ]
    },
    {
      "cell_type": "markdown",
      "metadata": {
        "origin_pos": 57,
        "tab": [
          "pytorch"
        ],
        "id": "dMWX_nJ6eQ0M"
      },
      "source": [
        "1. If we replace `nn.MSELoss(reduction='sum')` with `nn.MSELoss()`, how can we change the learning rate for the code to behave identically. Why?\n",
        "1. Review the PyTorch documentation to see what loss functions and initialization methods are provided. Replace the loss by Huber's loss.\n",
        "1. How do you access the gradient of `net[0].weight`?\n",
        "\n",
        "[Discussions](https://discuss.d2l.ai/t/45)\n"
      ]
    }
  ]
}