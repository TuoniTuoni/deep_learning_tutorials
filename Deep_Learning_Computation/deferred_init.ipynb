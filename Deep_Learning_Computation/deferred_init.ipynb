{
  "nbformat": 4,
  "nbformat_minor": 0,
  "metadata": {
    "kernelspec": {
      "display_name": "Python 3",
      "name": "python3"
    },
    "language_info": {
      "name": "python"
    },
    "colab": {
      "name": "deferred-init.ipynb",
      "provenance": []
    }
  },
  "cells": [
    {
      "cell_type": "markdown",
      "metadata": {
        "id": "uZmjgwflHe7K"
      },
      "source": [
        "The following additional libraries are needed to run this\n",
        "notebook. Note that running on Colab is experimental, please report a Github\n",
        "issue if you have any problem."
      ]
    },
    {
      "cell_type": "code",
      "metadata": {
        "id": "Xp64CCkzHe7P"
      },
      "source": [
        "!pip install -U mxnet-cu101==1.7.0\n"
      ],
      "execution_count": null,
      "outputs": []
    },
    {
      "cell_type": "markdown",
      "metadata": {
        "origin_pos": 0,
        "id": "5ZI1i8PQHe7R"
      },
      "source": [
        "# Deferred Initialization\n",
        ":label:`sec_deferred_init`\n",
        "\n",
        "So far, it might seem that we got away\n",
        "with being sloppy in setting up our networks.\n",
        "Specifically, we did the following unintuitive things,\n",
        "which might not seem like they should work:\n",
        "\n",
        "* We defined the network architectures\n",
        "  without specifying the input dimensionality.\n",
        "* We added layers without specifying\n",
        "  the output dimension of the previous layer.\n",
        "* We even \"initialized\" these parameters\n",
        "  before providing enough information to determine\n",
        "  how many parameters our models should contain.\n",
        "\n",
        "You might be surprised that our code runs at all.\n",
        "After all, there is no way the deep learning framework\n",
        "could tell what the input dimensionality of a network would be.\n",
        "The trick here is that the framework *defers initialization*,\n",
        "waiting until the first time we pass data through the model,\n",
        "to infer the sizes of each layer on the fly.\n",
        "\n",
        "\n",
        "Later on, when working with convolutional neural networks,\n",
        "this technique will become even more convenient\n",
        "since the input dimensionality\n",
        "(i.e., the resolution of an image)\n",
        "will affect the dimensionality\n",
        "of each subsequent layer.\n",
        "Hence, the ability to set parameters\n",
        "without the need to know,\n",
        "at the time of writing the code,\n",
        "what the dimensionality is\n",
        "can greatly simplify the task of specifying\n",
        "and subsequently modifying our models.\n",
        "Next, we go deeper into the mechanics of initialization.\n",
        "\n",
        "\n",
        "## Instantiating a Network\n",
        "\n",
        "To begin, let us instantiate an MLP.\n"
      ]
    },
    {
      "cell_type": "code",
      "metadata": {
        "origin_pos": 1,
        "tab": [
          "mxnet"
        ],
        "id": "8NkDZq3IHe7T"
      },
      "source": [
        "import tensorflow as tf\n",
        "\n",
        "net = tf.keras.models.Sequential([\n",
        "    tf.keras.layers.Dense(256, activation=tf.nn.relu),\n",
        "    tf.keras.layers.Dense(10),])"
      ],
      "execution_count": 1,
      "outputs": []
    },
    {
      "cell_type": "markdown",
      "metadata": {
        "origin_pos": 3,
        "id": "xPRjP8I1He7U"
      },
      "source": [
        "At this point, the network cannot possibly know\n",
        "the dimensions of the input layer's weights\n",
        "because the input dimension remains unknown.\n",
        "Consequently the framework has not yet initialized any parameters.\n",
        "We confirm by attempting to access the parameters below.\n"
      ]
    },
    {
      "cell_type": "code",
      "metadata": {
        "origin_pos": 4,
        "tab": [
          "mxnet"
        ],
        "id": "fm9qEzmgHe7V",
        "outputId": "c265d69a-4e3b-47e6-eb48-3d7c5d97ff00",
        "colab": {
          "base_uri": "https://localhost:8080/"
        }
      },
      "source": [
        "[net.layers[i].get_weights() for i in range(len(net.layers))]"
      ],
      "execution_count": 2,
      "outputs": [
        {
          "output_type": "execute_result",
          "data": {
            "text/plain": [
              "[[], []]"
            ]
          },
          "metadata": {
            "tags": []
          },
          "execution_count": 2
        }
      ]
    },
    {
      "cell_type": "markdown",
      "metadata": {
        "origin_pos": 6,
        "tab": [
          "mxnet"
        ],
        "id": "ThcGn30zHe7Y"
      },
      "source": [
        "Note that while the parameter objects exist,\n",
        "the input dimension to each layer is listed as -1.\n",
        "MXNet uses the special value -1 to indicate\n",
        "that the parameter dimension remains unknown.\n",
        "At this point, attempts to access `net[0].weight.data()`\n",
        "would trigger a runtime error stating that the network\n",
        "must be initialized before the parameters can be accessed.\n",
        "Now let us see what happens when we attempt to initialize\n",
        "parameters via the `initialize` function.\n"
      ]
    },
    {
      "cell_type": "code",
      "metadata": {
        "origin_pos": 8,
        "tab": [
          "mxnet"
        ],
        "id": "tieYxDr_He7a",
        "outputId": "f3f33fa4-917b-4ee8-903f-c97bb46fdce1",
        "colab": {
          "base_uri": "https://localhost:8080/"
        }
      },
      "source": [
        "X = tf.random.uniform((2, 20))\n",
        "net(X)\n",
        "[w.shape for w in net.get_weights()]"
      ],
      "execution_count": 3,
      "outputs": [
        {
          "output_type": "execute_result",
          "data": {
            "text/plain": [
              "[(20, 256), (256,), (256, 10), (10,)]"
            ]
          },
          "metadata": {
            "tags": []
          },
          "execution_count": 3
        }
      ]
    },
    {
      "cell_type": "markdown",
      "metadata": {
        "origin_pos": 9,
        "tab": [
          "mxnet"
        ],
        "id": "oAb9xB2eHe7b"
      },
      "source": [
        "As we can see, nothing has changed.\n",
        "When input dimensions are unknown,\n",
        "calls to initialize do not truly initialize the parameters.\n",
        "Instead, this call registers to MXNet that we wish\n",
        "(and optionally, according to which distribution)\n",
        "to initialize the parameters.\n"
      ]
    },
    {
      "cell_type": "markdown",
      "metadata": {
        "origin_pos": 10,
        "id": "dzkk7kImHe7d"
      },
      "source": [
        "Next let us pass data through the network\n",
        "to make the framework finally initialize parameters.\n"
      ]
    },
    {
      "cell_type": "code",
      "metadata": {
        "origin_pos": 11,
        "tab": [
          "mxnet"
        ],
        "id": "WilxJ1K2He7d",
        "outputId": "94d0c35d-bef6-4d37-e5b7-ec4a6ea7aa67"
      },
      "source": [
        "X = np.random.uniform(size=(2, 20))\n",
        "net(X)\n",
        "\n",
        "net.collect_params()"
      ],
      "execution_count": null,
      "outputs": [
        {
          "output_type": "execute_result",
          "data": {
            "text/plain": [
              "sequential0_ (\n",
              "  Parameter dense0_weight (shape=(256, 20), dtype=float32)\n",
              "  Parameter dense0_bias (shape=(256,), dtype=float32)\n",
              "  Parameter dense1_weight (shape=(10, 256), dtype=float32)\n",
              "  Parameter dense1_bias (shape=(10,), dtype=float32)\n",
              ")"
            ]
          },
          "metadata": {
            "tags": []
          },
          "execution_count": 4
        }
      ]
    },
    {
      "cell_type": "markdown",
      "metadata": {
        "origin_pos": 13,
        "id": "HIkCilC6He7e"
      },
      "source": [
        "As soon as we know the input dimensionality,\n",
        "20,\n",
        "the framework can identify the shape of the first layer's weight matrix by plugging in the value of 20.\n",
        "Having recognized the first layer's shape, the framework proceeds\n",
        "to the second layer,\n",
        "and so on through the computational graph\n",
        "until all shapes are known.\n",
        "Note that in this case,\n",
        "only the first layer requires deferred initialization,\n",
        "but the framework initializes sequentially.\n",
        "Once all parameter shapes are known,\n",
        "the framework can finally initialize the parameters.\n",
        "\n",
        "## Summary\n",
        "\n",
        "* Deferred initialization can be convenient, allowing the framework to infer parameter shapes automatically, making it easy to modify architectures and eliminating one common source of errors.\n",
        "* We can pass data through the model to make the framework finally initialize parameters.\n",
        "\n",
        "\n",
        "## Exercises\n",
        "\n",
        "1. What happens if you specify the input dimensions to the first layer but not to subsequent layers? Do you get immediate initialization?\n",
        "1. What happens if you specify mismatching dimensions?\n",
        "1. What would you need to do if you have input of varying dimensionality? Hint: look at the parameter tying.\n"
      ]
    },
    {
      "cell_type": "markdown",
      "metadata": {
        "origin_pos": 14,
        "tab": [
          "mxnet"
        ],
        "id": "5RgIIKDtHe7f"
      },
      "source": [
        "[Discussions](https://discuss.d2l.ai/t/280)\n"
      ]
    }
  ]
}