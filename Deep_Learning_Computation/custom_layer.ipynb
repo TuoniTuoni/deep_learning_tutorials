{
  "nbformat": 4,
  "nbformat_minor": 0,
  "metadata": {
    "kernelspec": {
      "display_name": "Python 3",
      "name": "python3"
    },
    "language_info": {
      "name": "python"
    },
    "colab": {
      "name": "custom-layer.ipynb",
      "provenance": []
    }
  },
  "cells": [
    {
      "cell_type": "markdown",
      "metadata": {
        "origin_pos": 0,
        "id": "VVgp5rbzJHE9"
      },
      "source": [
        "# Custom Layers\n",
        "\n",
        "One factor behind deep learning's success\n",
        "is the availability of a wide range of layers\n",
        "that can be composed in creative ways\n",
        "to design architectures suitable\n",
        "for a wide variety of tasks.\n",
        "For instance, researchers have invented layers\n",
        "specifically for handling images, text,\n",
        "looping over sequential data,\n",
        "and\n",
        "performing dynamic programming.\n",
        "Sooner or later, you will encounter or invent\n",
        "a layer that does not exist yet in the deep learning framework.\n",
        "In these cases, you must build a custom layer.\n",
        "In this section, we show you how.\n",
        "\n",
        "## (**Layers without Parameters**)\n",
        "\n",
        "To start, we construct a custom layer\n",
        "that does not have any parameters of its own.\n",
        "This should look familiar if you recall our\n",
        "introduction to block in :numref:`sec_model_construction`.\n",
        "The following `CenteredLayer` class simply\n",
        "subtracts the mean from its input.\n",
        "To build it, we simply need to inherit\n",
        "from the base layer class and implement the forward propagation function.\n"
      ]
    },
    {
      "cell_type": "code",
      "metadata": {
        "origin_pos": 2,
        "tab": [
          "pytorch"
        ],
        "id": "F95BptqLJHFA"
      },
      "source": [
        "import torch\n",
        "from torch import nn\n",
        "from torch.nn import functional as F\n",
        "\n",
        "class CenteredLayer(nn.Module):\n",
        "    def __init__(self):\n",
        "        super().__init__()\n",
        "\n",
        "    def forward(self, X):\n",
        "        return X - X.mean()"
      ],
      "execution_count": 1,
      "outputs": []
    },
    {
      "cell_type": "markdown",
      "metadata": {
        "origin_pos": 4,
        "id": "ys4fUBIAJHFB"
      },
      "source": [
        "Let us verify that our layer works as intended by feeding some data through it.\n"
      ]
    },
    {
      "cell_type": "code",
      "metadata": {
        "origin_pos": 6,
        "tab": [
          "pytorch"
        ],
        "id": "hglyRzvEJHFC",
        "outputId": "dac55517-218a-4221-b7a6-82f5428aae7a",
        "colab": {
          "base_uri": "https://localhost:8080/"
        }
      },
      "source": [
        "layer = CenteredLayer()\n",
        "layer(torch.FloatTensor([1, 2, 3, 4, 5]))"
      ],
      "execution_count": 2,
      "outputs": [
        {
          "output_type": "execute_result",
          "data": {
            "text/plain": [
              "tensor([-2., -1.,  0.,  1.,  2.])"
            ]
          },
          "metadata": {
            "tags": []
          },
          "execution_count": 2
        }
      ]
    },
    {
      "cell_type": "markdown",
      "metadata": {
        "origin_pos": 8,
        "id": "gMS5e5G5JHFD"
      },
      "source": [
        "We can now [**incorporate our layer as a component\n",
        "in constructing more complex models.**]\n"
      ]
    },
    {
      "cell_type": "code",
      "metadata": {
        "origin_pos": 10,
        "tab": [
          "pytorch"
        ],
        "id": "0auyZagVJHFD"
      },
      "source": [
        "net = nn.Sequential(nn.Linear(8, 128), CenteredLayer())"
      ],
      "execution_count": 3,
      "outputs": []
    },
    {
      "cell_type": "markdown",
      "metadata": {
        "origin_pos": 12,
        "id": "sDRF6vleJHFD"
      },
      "source": [
        "As an extra sanity check, we can send random data\n",
        "through the network and check that the mean is in fact 0.\n",
        "Because we are dealing with floating point numbers,\n",
        "we may still see a very small nonzero number\n",
        "due to quantization.\n"
      ]
    },
    {
      "cell_type": "code",
      "metadata": {
        "origin_pos": 14,
        "tab": [
          "pytorch"
        ],
        "id": "haitXmiwJHFE",
        "outputId": "6c806900-8f0c-404c-b93d-7bb9b5fe2013",
        "colab": {
          "base_uri": "https://localhost:8080/"
        }
      },
      "source": [
        "Y = net(torch.rand(4, 8))\n",
        "Y.mean()"
      ],
      "execution_count": 4,
      "outputs": [
        {
          "output_type": "execute_result",
          "data": {
            "text/plain": [
              "tensor(2.3283e-09, grad_fn=<MeanBackward0>)"
            ]
          },
          "metadata": {
            "tags": []
          },
          "execution_count": 4
        }
      ]
    },
    {
      "cell_type": "markdown",
      "metadata": {
        "origin_pos": 16,
        "id": "MNXqcZpeJHFE"
      },
      "source": [
        "## [**Layers with Parameters**]\n",
        "\n",
        "Now that we know how to define simple layers,\n",
        "let us move on to defining layers with parameters\n",
        "that can be adjusted through training.\n",
        "We can use built-in functions to create parameters, which\n",
        "provide some basic housekeeping functionality.\n",
        "In particular, they govern access, initialization,\n",
        "sharing, saving, and loading model parameters.\n",
        "This way, among other benefits, we will not need to write\n",
        "custom serialization routines for every custom layer.\n",
        "\n",
        "Now let us implement our own version of the  fully-connected layer.\n",
        "Recall that this layer requires two parameters,\n",
        "one to represent the weight and the other for the bias.\n",
        "In this implementation, we bake in the ReLU activation as a default.\n",
        "This layer requires to input arguments: `in_units` and `units`, which\n",
        "denote the number of inputs and outputs, respectively.\n"
      ]
    },
    {
      "cell_type": "code",
      "metadata": {
        "origin_pos": 18,
        "tab": [
          "pytorch"
        ],
        "id": "YLHSJgTxJHFF"
      },
      "source": [
        "class MyLinear(nn.Module):\n",
        "    def __init__(self, in_units, units):\n",
        "        super().__init__()\n",
        "        self.weight = nn.Parameter(torch.randn(in_units, units))\n",
        "        self.bias = nn.Parameter(torch.randn(units,))\n",
        "\n",
        "    def forward(self, X):\n",
        "        linear = torch.matmul(X, self.weight.data) + self.bias.data\n",
        "        return F.relu(linear)"
      ],
      "execution_count": 5,
      "outputs": []
    },
    {
      "cell_type": "markdown",
      "metadata": {
        "origin_pos": 21,
        "tab": [
          "pytorch"
        ],
        "id": "FzosYl8RJHFF"
      },
      "source": [
        "Next, we instantiate the `MyLinear` class\n",
        "and access its model parameters.\n"
      ]
    },
    {
      "cell_type": "code",
      "metadata": {
        "origin_pos": 23,
        "tab": [
          "pytorch"
        ],
        "id": "WUkHTWEaJHFG",
        "outputId": "d6d1bb0f-baea-4610-d5b0-afdb90e8867d",
        "colab": {
          "base_uri": "https://localhost:8080/"
        }
      },
      "source": [
        "linear = MyLinear(5, 3)\n",
        "linear.weight"
      ],
      "execution_count": 6,
      "outputs": [
        {
          "output_type": "execute_result",
          "data": {
            "text/plain": [
              "Parameter containing:\n",
              "tensor([[ 0.2367, -2.3428,  0.4092],\n",
              "        [-1.2904,  0.0743, -0.3065],\n",
              "        [-0.2179, -1.5603, -0.3347],\n",
              "        [ 0.7098, -0.0281, -0.0451],\n",
              "        [ 0.2006,  1.5839, -1.1435]], requires_grad=True)"
            ]
          },
          "metadata": {
            "tags": []
          },
          "execution_count": 6
        }
      ]
    },
    {
      "cell_type": "markdown",
      "metadata": {
        "origin_pos": 25,
        "id": "CVr9bmsdJHFG"
      },
      "source": [
        "We can [**directly carry out forward propagation calculations using custom layers.**]\n"
      ]
    },
    {
      "cell_type": "code",
      "metadata": {
        "origin_pos": 27,
        "tab": [
          "pytorch"
        ],
        "id": "UaUlC1XAJHFG",
        "outputId": "899929cb-921f-4e0b-9615-64b6986cfad3",
        "colab": {
          "base_uri": "https://localhost:8080/"
        }
      },
      "source": [
        "linear(torch.rand(2, 5))"
      ],
      "execution_count": 7,
      "outputs": [
        {
          "output_type": "execute_result",
          "data": {
            "text/plain": [
              "tensor([[0.8654, 0.7880, 0.1227],\n",
              "        [0.5332, 1.5695, 0.0000]])"
            ]
          },
          "metadata": {
            "tags": []
          },
          "execution_count": 7
        }
      ]
    },
    {
      "cell_type": "markdown",
      "metadata": {
        "origin_pos": 29,
        "id": "3StqMm9kJHFH"
      },
      "source": [
        "We can also (**construct models using custom layers.**)\n",
        "Once we have that we can use it just like the built-in fully-connected layer.\n"
      ]
    },
    {
      "cell_type": "code",
      "metadata": {
        "origin_pos": 31,
        "tab": [
          "pytorch"
        ],
        "id": "exwddJs4JHFH",
        "outputId": "a879636f-4afa-4d56-ca5a-51faeb71f98a",
        "colab": {
          "base_uri": "https://localhost:8080/"
        }
      },
      "source": [
        "net = nn.Sequential(MyLinear(64, 8), MyLinear(8, 1))\n",
        "net(torch.rand(2, 64))"
      ],
      "execution_count": 8,
      "outputs": [
        {
          "output_type": "execute_result",
          "data": {
            "text/plain": [
              "tensor([[8.8180],\n",
              "        [1.5472]])"
            ]
          },
          "metadata": {
            "tags": []
          },
          "execution_count": 8
        }
      ]
    },
    {
      "cell_type": "markdown",
      "metadata": {
        "origin_pos": 33,
        "id": "DkJA2pY4JHFH"
      },
      "source": [
        "## Summary\n",
        "\n",
        "* We can design custom layers via the basic layer class. This allows us to define flexible new layers that behave differently from any existing layers in the library.\n",
        "* Once defined, custom layers can be invoked in arbitrary contexts and architectures.\n",
        "* Layers can have local parameters, which can be created through built-in functions.\n",
        "\n",
        "\n",
        "## Exercises\n",
        "\n",
        "1. Design a layer that takes an input and computes a tensor reduction,\n",
        "   i.e., it returns $y_k = \\sum_{i, j} W_{ijk} x_i x_j$.\n",
        "1. Design a layer that returns the leading half of the Fourier coefficients of the data.\n"
      ]
    },
    {
      "cell_type": "markdown",
      "metadata": {
        "origin_pos": 35,
        "tab": [
          "pytorch"
        ],
        "id": "0A5tleP6JHFH"
      },
      "source": [
        "[Discussions](https://discuss.d2l.ai/t/59)\n"
      ]
    }
  ]
}