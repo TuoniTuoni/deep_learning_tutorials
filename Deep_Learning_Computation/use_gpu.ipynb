{
  "nbformat": 4,
  "nbformat_minor": 0,
  "metadata": {
    "accelerator": "GPU",
    "kernelspec": {
      "display_name": "Python 3",
      "name": "python3"
    },
    "language_info": {
      "name": "python"
    },
    "colab": {
      "name": "use-gpu.ipynb",
      "provenance": []
    }
  },
  "cells": [
    {
      "cell_type": "markdown",
      "metadata": {
        "origin_pos": 0,
        "id": "rFAyrZ0aSGpE"
      },
      "source": [
        "# GPUs\n",
        ":label:`sec_use_gpu`\n",
        "\n",
        "In :numref:`tab_intro_decade`, we discussed the rapid growth\n",
        "of computation over the past two decades.\n",
        "In a nutshell, GPU performance has increased\n",
        "by a factor of 1000 every decade since 2000.\n",
        "This offers great opportunities but it also suggests\n",
        "a significant need to provide such performance.\n",
        "\n",
        "\n",
        "In this section, we begin to discuss how to harness\n",
        "this computational performance for your research.\n",
        "First by using single GPUs and at a later point,\n",
        "how to use multiple GPUs and multiple servers (with multiple GPUs).\n",
        "\n",
        "Specifically, we will discuss how\n",
        "to use a single NVIDIA GPU for calculations.\n",
        "First, make sure you have at least one NVIDIA GPU installed.\n",
        "Then, download the [NVIDIA driver and CUDA](https://developer.nvidia.com/cuda-downloads)\n",
        "and follow the prompts to set the appropriate path.\n",
        "Once these preparations are complete,\n",
        "the `nvidia-smi` command can be used\n",
        "to (**view the graphics card information**).\n"
      ]
    },
    {
      "cell_type": "code",
      "metadata": {
        "origin_pos": 1,
        "tab": [
          "pytorch"
        ],
        "id": "etoKYjarSGpH",
        "outputId": "8ee3fc2d-fc70-4d80-b4ff-7e983069f7ad",
        "colab": {
          "base_uri": "https://localhost:8080/"
        }
      },
      "source": [
        "!nvidia-smi"
      ],
      "execution_count": 1,
      "outputs": [
        {
          "output_type": "stream",
          "text": [
            "Fri Jul 30 07:20:41 2021       \n",
            "+-----------------------------------------------------------------------------+\n",
            "| NVIDIA-SMI 470.42.01    Driver Version: 460.32.03    CUDA Version: 11.2     |\n",
            "|-------------------------------+----------------------+----------------------+\n",
            "| GPU  Name        Persistence-M| Bus-Id        Disp.A | Volatile Uncorr. ECC |\n",
            "| Fan  Temp  Perf  Pwr:Usage/Cap|         Memory-Usage | GPU-Util  Compute M. |\n",
            "|                               |                      |               MIG M. |\n",
            "|===============================+======================+======================|\n",
            "|   0  Tesla T4            Off  | 00000000:00:04.0 Off |                    0 |\n",
            "| N/A   61C    P8    11W /  70W |      0MiB / 15109MiB |      0%      Default |\n",
            "|                               |                      |                  N/A |\n",
            "+-------------------------------+----------------------+----------------------+\n",
            "                                                                               \n",
            "+-----------------------------------------------------------------------------+\n",
            "| Processes:                                                                  |\n",
            "|  GPU   GI   CI        PID   Type   Process name                  GPU Memory |\n",
            "|        ID   ID                                                   Usage      |\n",
            "|=============================================================================|\n",
            "|  No running processes found                                                 |\n",
            "+-----------------------------------------------------------------------------+\n"
          ],
          "name": "stdout"
        }
      ]
    },
    {
      "cell_type": "markdown",
      "metadata": {
        "origin_pos": 3,
        "tab": [
          "pytorch"
        ],
        "id": "0ipt3pqCSGpI"
      },
      "source": [
        "In PyTorch, every array has a device, we often refer it as a context.\n",
        "So far, by default, all variables\n",
        "and associated computation\n",
        "have been assigned to the CPU.\n",
        "Typically, other contexts might be various GPUs.\n",
        "Things can get even hairier when\n",
        "we deploy jobs across multiple servers.\n",
        "By assigning arrays to contexts intelligently,\n",
        "we can minimize the time spent\n",
        "transferring data between devices.\n",
        "For example, when training neural networks on a server with a GPU,\n",
        "we typically prefer for the model's parameters to live on the GPU.\n",
        "\n",
        "Next, we need to confirm that\n",
        "the GPU version of PyTorch is installed.\n",
        "If a CPU version of PyTorch is already installed,\n",
        "we need to uninstall it first.\n",
        "For example, use the `pip uninstall torch` command,\n",
        "then install the corresponding PyTorch version\n",
        "according to your CUDA version.\n",
        "Assuming you have CUDA 10.0 installed,\n",
        "you can install the PyTorch version\n",
        "that supports CUDA 10.0 via `pip install torch-cu100`.\n"
      ]
    },
    {
      "cell_type": "markdown",
      "metadata": {
        "origin_pos": 4,
        "id": "gPimXAU0SGpJ"
      },
      "source": [
        "To run the programs in this section,\n",
        "you need at least two GPUs.\n",
        "Note that this might be extravagant for most desktop computers\n",
        "but it is easily available in the cloud, e.g.,\n",
        "by using the AWS EC2 multi-GPU instances.\n",
        "Almost all other sections do *not* require multiple GPUs.\n",
        "Instead, this is simply to illustrate\n",
        "how data flow between different devices.\n",
        "\n",
        "## [**Computing Devices**]\n",
        "\n",
        "We can specify devices, such as CPUs and GPUs,\n",
        "for storage and calculation.\n",
        "By default, tensors are created in the main memory\n",
        "and then use the CPU to calculate it.\n"
      ]
    },
    {
      "cell_type": "markdown",
      "metadata": {
        "origin_pos": 6,
        "tab": [
          "pytorch"
        ],
        "id": "r3fNRtzGSGpJ"
      },
      "source": [
        "In PyTorch, the CPU and GPU can be indicated by `torch.device('cpu')` and `torch.device('cuda')`.\n",
        "It should be noted that the `cpu` device\n",
        "means all physical CPUs and memory.\n",
        "This means that PyTorch's calculations\n",
        "will try to use all CPU cores.\n",
        "However, a `gpu` device only represents one card\n",
        "and the corresponding memory.\n",
        "If there are multiple GPUs, we use `torch.device(f'cuda:{i}')`\n",
        "to represent the $i^\\mathrm{th}$ GPU ($i$ starts from 0).\n",
        "Also, `gpu:0` and `gpu` are equivalent.\n"
      ]
    },
    {
      "cell_type": "code",
      "metadata": {
        "origin_pos": 8,
        "tab": [
          "pytorch"
        ],
        "id": "4mcf4ty4SGpK",
        "outputId": "2853bc2e-e24f-4202-bf87-ae35165a1002",
        "colab": {
          "base_uri": "https://localhost:8080/"
        }
      },
      "source": [
        "import torch\n",
        "from torch import nn\n",
        "\n",
        "torch.device('cpu'), torch.device('cuda'), torch.device('cuda:1')"
      ],
      "execution_count": 2,
      "outputs": [
        {
          "output_type": "execute_result",
          "data": {
            "text/plain": [
              "(device(type='cpu'), device(type='cuda'), device(type='cuda', index=1))"
            ]
          },
          "metadata": {
            "tags": []
          },
          "execution_count": 2
        }
      ]
    },
    {
      "cell_type": "markdown",
      "metadata": {
        "origin_pos": 10,
        "id": "z-LuK1-0SGpK"
      },
      "source": [
        "We can (**query the number of available GPUs.**)\n"
      ]
    },
    {
      "cell_type": "code",
      "metadata": {
        "origin_pos": 12,
        "tab": [
          "pytorch"
        ],
        "id": "39lGXwrUSGpL",
        "outputId": "1df50e70-517c-4864-d611-4ca256c7fb1c",
        "colab": {
          "base_uri": "https://localhost:8080/"
        }
      },
      "source": [
        "torch.cuda.device_count()"
      ],
      "execution_count": 3,
      "outputs": [
        {
          "output_type": "execute_result",
          "data": {
            "text/plain": [
              "1"
            ]
          },
          "metadata": {
            "tags": []
          },
          "execution_count": 3
        }
      ]
    },
    {
      "cell_type": "markdown",
      "metadata": {
        "origin_pos": 14,
        "id": "3LtodBpQSGpL"
      },
      "source": [
        "Now we [**define two convenient functions that allow us\n",
        "to run code even if the requested GPUs do not exist.**]\n"
      ]
    },
    {
      "cell_type": "code",
      "metadata": {
        "origin_pos": 16,
        "tab": [
          "pytorch"
        ],
        "id": "TpStFZTmSGpM",
        "outputId": "fe723957-d930-4073-e5a9-0df5eac86b49",
        "colab": {
          "base_uri": "https://localhost:8080/"
        }
      },
      "source": [
        "def try_gpu(i=0):  #@save\n",
        "    \"\"\"Return gpu(i) if exists, otherwise return cpu().\"\"\"\n",
        "    if torch.cuda.device_count() >= i + 1:\n",
        "        return torch.device(f'cuda:{i}')\n",
        "    return torch.device('cpu')\n",
        "\n",
        "def try_all_gpus():  #@save\n",
        "    \"\"\"Return all available GPUs, or [cpu(),] if no GPU exists.\"\"\"\n",
        "    devices = [\n",
        "        torch.device(f'cuda:{i}') for i in range(torch.cuda.device_count())]\n",
        "    return devices if devices else [torch.device('cpu')]\n",
        "\n",
        "try_gpu(), try_gpu(10), try_all_gpus()"
      ],
      "execution_count": 4,
      "outputs": [
        {
          "output_type": "execute_result",
          "data": {
            "text/plain": [
              "(device(type='cuda', index=0),\n",
              " device(type='cpu'),\n",
              " [device(type='cuda', index=0)])"
            ]
          },
          "metadata": {
            "tags": []
          },
          "execution_count": 4
        }
      ]
    },
    {
      "cell_type": "markdown",
      "metadata": {
        "origin_pos": 18,
        "id": "K_RmxNMTSGpM"
      },
      "source": [
        "## Tensors and GPUs\n",
        "\n",
        "By default, tensors are created on the CPU.\n",
        "We can [**query the device where the tensor is located.**]\n"
      ]
    },
    {
      "cell_type": "code",
      "metadata": {
        "origin_pos": 20,
        "tab": [
          "pytorch"
        ],
        "id": "GxO7iFoxSGpM",
        "outputId": "e9ab0828-2635-46f1-84ce-6a1e30a71937",
        "colab": {
          "base_uri": "https://localhost:8080/"
        }
      },
      "source": [
        "x = torch.tensor([1, 2, 3])\n",
        "x.device"
      ],
      "execution_count": 5,
      "outputs": [
        {
          "output_type": "execute_result",
          "data": {
            "text/plain": [
              "device(type='cpu')"
            ]
          },
          "metadata": {
            "tags": []
          },
          "execution_count": 5
        }
      ]
    },
    {
      "cell_type": "markdown",
      "metadata": {
        "origin_pos": 22,
        "id": "Z0ehQRlxSGpN"
      },
      "source": [
        "It is important to note that whenever we want\n",
        "to operate on multiple terms,\n",
        "they need to be on the same device.\n",
        "For instance, if we sum two tensors,\n",
        "we need to make sure that both arguments\n",
        "live on the same device---otherwise the framework\n",
        "would not know where to store the result\n",
        "or even how to decide where to perform the computation.\n",
        "\n",
        "### Storage on the GPU\n",
        "\n",
        "There are several ways to [**store a tensor on the GPU.**]\n",
        "For example, we can specify a storage device when creating a tensor.\n",
        "Next, we create the tensor variable `X` on the first `gpu`.\n",
        "The tensor created on a GPU only consumes the memory of this GPU.\n",
        "We can use the `nvidia-smi` command to view GPU memory usage.\n",
        "In general, we need to make sure that we do not create data that exceed the GPU memory limit.\n"
      ]
    },
    {
      "cell_type": "code",
      "metadata": {
        "origin_pos": 24,
        "tab": [
          "pytorch"
        ],
        "id": "c_3KtYbbSGpN",
        "outputId": "3d21ad30-0f8d-4c9c-c360-c06ebffe51e7",
        "colab": {
          "base_uri": "https://localhost:8080/"
        }
      },
      "source": [
        "X = torch.ones(2, 3, device=try_gpu())\n",
        "X"
      ],
      "execution_count": 6,
      "outputs": [
        {
          "output_type": "execute_result",
          "data": {
            "text/plain": [
              "tensor([[1., 1., 1.],\n",
              "        [1., 1., 1.]], device='cuda:0')"
            ]
          },
          "metadata": {
            "tags": []
          },
          "execution_count": 6
        }
      ]
    },
    {
      "cell_type": "code",
      "metadata": {
        "id": "yJURT6LvSt7s",
        "outputId": "37ad10e6-558d-4e1d-cdc7-e792d75e246c",
        "colab": {
          "base_uri": "https://localhost:8080/"
        }
      },
      "source": [
        "A = torch.ones(2, 3, ).cuda()\n",
        "A"
      ],
      "execution_count": 17,
      "outputs": [
        {
          "output_type": "execute_result",
          "data": {
            "text/plain": [
              "tensor([[1., 1., 1.],\n",
              "        [1., 1., 1.]], device='cuda:0')"
            ]
          },
          "metadata": {
            "tags": []
          },
          "execution_count": 17
        }
      ]
    },
    {
      "cell_type": "markdown",
      "metadata": {
        "origin_pos": 26,
        "id": "rp-ciXkVSGpO"
      },
      "source": [
        "Assuming that you have at least two GPUs, the following code will (**create a random tensor on the second GPU.**)\n"
      ]
    },
    {
      "cell_type": "code",
      "metadata": {
        "origin_pos": 28,
        "tab": [
          "pytorch"
        ],
        "id": "QQ2DHCrSSGpO",
        "outputId": "e71f1592-2a0c-4b5f-8446-7edb9a6c04b1",
        "colab": {
          "base_uri": "https://localhost:8080/"
        }
      },
      "source": [
        "Y = torch.rand(2, 3, device=try_gpu(1))\n",
        "Y"
      ],
      "execution_count": 7,
      "outputs": [
        {
          "output_type": "execute_result",
          "data": {
            "text/plain": [
              "tensor([[0.1999, 0.0332, 0.7882],\n",
              "        [0.3275, 0.0916, 0.6420]])"
            ]
          },
          "metadata": {
            "tags": []
          },
          "execution_count": 7
        }
      ]
    },
    {
      "cell_type": "markdown",
      "metadata": {
        "origin_pos": 30,
        "id": "K3hFVL8WSGpO"
      },
      "source": [
        "### Copying\n",
        "\n",
        "[**If we want to compute `X + Y`,\n",
        "we need to decide where to perform this operation.**]\n",
        "For instance, as shown in :numref:`fig_copyto`,\n",
        "we can transfer `X` to the second GPU\n",
        "and perform the operation there.\n",
        "*Do not* simply add `X` and `Y`,\n",
        "since this will result in an exception.\n",
        "The runtime engine would not know what to do:\n",
        "it cannot find data on the same device and it fails.\n",
        "Since `Y` lives on the second GPU,\n",
        "we need to move `X` there before we can add the two.\n",
        "\n",
        "![Copy data to perform an operation on the same device.](http://d2l.ai/_images/copyto.svg)\n",
        ":label:`fig_copyto`\n"
      ]
    },
    {
      "cell_type": "code",
      "metadata": {
        "origin_pos": 32,
        "tab": [
          "pytorch"
        ],
        "id": "QTCuIBMbSGpO",
        "outputId": "15a2f897-98a7-4449-ee29-3ce92b64349f",
        "colab": {
          "base_uri": "https://localhost:8080/",
          "height": 233
        }
      },
      "source": [
        "Z = X.cuda(1)\n",
        "print(X)\n",
        "print(Z)"
      ],
      "execution_count": 8,
      "outputs": [
        {
          "output_type": "error",
          "ename": "RuntimeError",
          "evalue": "ignored",
          "traceback": [
            "\u001b[0;31m---------------------------------------------------------------------------\u001b[0m",
            "\u001b[0;31mRuntimeError\u001b[0m                              Traceback (most recent call last)",
            "\u001b[0;32m<ipython-input-8-045efdabb693>\u001b[0m in \u001b[0;36m<module>\u001b[0;34m()\u001b[0m\n\u001b[0;32m----> 1\u001b[0;31m \u001b[0mZ\u001b[0m \u001b[0;34m=\u001b[0m \u001b[0mX\u001b[0m\u001b[0;34m.\u001b[0m\u001b[0mcuda\u001b[0m\u001b[0;34m(\u001b[0m\u001b[0;36m1\u001b[0m\u001b[0;34m)\u001b[0m\u001b[0;34m\u001b[0m\u001b[0;34m\u001b[0m\u001b[0m\n\u001b[0m\u001b[1;32m      2\u001b[0m \u001b[0mprint\u001b[0m\u001b[0;34m(\u001b[0m\u001b[0mX\u001b[0m\u001b[0;34m)\u001b[0m\u001b[0;34m\u001b[0m\u001b[0;34m\u001b[0m\u001b[0m\n\u001b[1;32m      3\u001b[0m \u001b[0mprint\u001b[0m\u001b[0;34m(\u001b[0m\u001b[0mZ\u001b[0m\u001b[0;34m)\u001b[0m\u001b[0;34m\u001b[0m\u001b[0;34m\u001b[0m\u001b[0m\n",
            "\u001b[0;31mRuntimeError\u001b[0m: CUDA error: invalid device ordinal\nCUDA kernel errors might be asynchronously reported at some other API call,so the stacktrace below might be incorrect.\nFor debugging consider passing CUDA_LAUNCH_BLOCKING=1."
          ]
        }
      ]
    },
    {
      "cell_type": "markdown",
      "metadata": {
        "origin_pos": 34,
        "id": "Vmt2aE_ESGpP"
      },
      "source": [
        "Now that [**the data are on the same GPU\n",
        "(both `Z` and `Y` are),\n",
        "we can add them up.**]\n"
      ]
    },
    {
      "cell_type": "code",
      "metadata": {
        "origin_pos": 35,
        "tab": [
          "pytorch"
        ],
        "id": "Nl9JMrhQSGpP",
        "outputId": "8c0165d6-74da-431e-d534-5e2783feffb3",
        "colab": {
          "base_uri": "https://localhost:8080/",
          "height": 166
        }
      },
      "source": [
        "Y + Z"
      ],
      "execution_count": 9,
      "outputs": [
        {
          "output_type": "error",
          "ename": "NameError",
          "evalue": "ignored",
          "traceback": [
            "\u001b[0;31m---------------------------------------------------------------------------\u001b[0m",
            "\u001b[0;31mNameError\u001b[0m                                 Traceback (most recent call last)",
            "\u001b[0;32m<ipython-input-9-e37447af6361>\u001b[0m in \u001b[0;36m<module>\u001b[0;34m()\u001b[0m\n\u001b[0;32m----> 1\u001b[0;31m \u001b[0mY\u001b[0m \u001b[0;34m+\u001b[0m \u001b[0mZ\u001b[0m\u001b[0;34m\u001b[0m\u001b[0;34m\u001b[0m\u001b[0m\n\u001b[0m",
            "\u001b[0;31mNameError\u001b[0m: name 'Z' is not defined"
          ]
        }
      ]
    },
    {
      "cell_type": "markdown",
      "metadata": {
        "origin_pos": 37,
        "tab": [
          "pytorch"
        ],
        "id": "6Wqa6MYzSGpP"
      },
      "source": [
        "Imagine that your variable `Z` already lives on your second GPU.\n",
        "What happens if we still call `Z.cuda(1)`?\n",
        "It will return `Z` instead of making a copy and allocating new memory.\n"
      ]
    },
    {
      "cell_type": "code",
      "metadata": {
        "origin_pos": 40,
        "tab": [
          "pytorch"
        ],
        "id": "cxdQBiAHSGpP",
        "outputId": "6fc7d3ae-4b6d-458e-d438-5c60e5cf4098",
        "colab": {
          "base_uri": "https://localhost:8080/",
          "height": 166
        }
      },
      "source": [
        "Z.cuda(1) is Z"
      ],
      "execution_count": 10,
      "outputs": [
        {
          "output_type": "error",
          "ename": "NameError",
          "evalue": "ignored",
          "traceback": [
            "\u001b[0;31m---------------------------------------------------------------------------\u001b[0m",
            "\u001b[0;31mNameError\u001b[0m                                 Traceback (most recent call last)",
            "\u001b[0;32m<ipython-input-10-a8fc7bdcccac>\u001b[0m in \u001b[0;36m<module>\u001b[0;34m()\u001b[0m\n\u001b[0;32m----> 1\u001b[0;31m \u001b[0mZ\u001b[0m\u001b[0;34m.\u001b[0m\u001b[0mcuda\u001b[0m\u001b[0;34m(\u001b[0m\u001b[0;36m1\u001b[0m\u001b[0;34m)\u001b[0m \u001b[0;32mis\u001b[0m \u001b[0mZ\u001b[0m\u001b[0;34m\u001b[0m\u001b[0;34m\u001b[0m\u001b[0m\n\u001b[0m",
            "\u001b[0;31mNameError\u001b[0m: name 'Z' is not defined"
          ]
        }
      ]
    },
    {
      "cell_type": "markdown",
      "metadata": {
        "origin_pos": 42,
        "id": "_yG2FBydSGpQ"
      },
      "source": [
        "### Side Notes\n",
        "\n",
        "People use GPUs to do machine learning\n",
        "because they expect them to be fast.\n",
        "But transferring variables between devices is slow.\n",
        "So we want you to be 100% certain\n",
        "that you want to do something slow before we let you do it.\n",
        "If the deep learning framework just did the copy automatically\n",
        "without crashing then you might not realize\n",
        "that you had written some slow code.\n",
        "\n",
        "Also, transferring data between devices (CPU, GPUs, and other machines)\n",
        "is something that is much slower than computation.\n",
        "It also makes parallelization a lot more difficult,\n",
        "since we have to wait for data to be sent (or rather to be received)\n",
        "before we can proceed with more operations.\n",
        "This is why copy operations should be taken with great care.\n",
        "As a rule of thumb, many small operations\n",
        "are much worse than one big operation.\n",
        "Moreover, several operations at a time\n",
        "are much better than many single operations interspersed in the code\n",
        "unless you know what you are doing.\n",
        "This is the case since such operations can block if one device\n",
        "has to wait for the other before it can do something else.\n",
        "It is a bit like ordering your coffee in a queue\n",
        "rather than pre-ordering it by phone\n",
        "and finding out that it is ready when you are.\n",
        "\n",
        "Last, when we print tensors or convert tensors to the NumPy format,\n",
        "if the data is not in the main memory,\n",
        "the framework will copy it to the main memory first,\n",
        "resulting in additional transmission overhead.\n",
        "Even worse, it is now subject to the dreaded global interpreter lock\n",
        "that makes everything wait for Python to complete.\n",
        "\n",
        "\n",
        "## [**Neural Networks and GPUs**]\n",
        "\n",
        "Similarly, a neural network model can specify devices.\n",
        "The following code puts the model parameters on the GPU.\n"
      ]
    },
    {
      "cell_type": "code",
      "metadata": {
        "origin_pos": 44,
        "tab": [
          "pytorch"
        ],
        "id": "AVdtqn3USGpQ"
      },
      "source": [
        "net = nn.Sequential(nn.Linear(3, 1))\n",
        "net = net.to(device=try_gpu())"
      ],
      "execution_count": 11,
      "outputs": []
    },
    {
      "cell_type": "markdown",
      "metadata": {
        "origin_pos": 46,
        "id": "DZVpZVTiSGpQ"
      },
      "source": [
        "We will see many more examples of\n",
        "how to run models on GPUs in the following chapters,\n",
        "simply since they will become somewhat more computationally intensive.\n",
        "\n",
        "When the input is a tensor on the GPU, the model will calculate the result on the same GPU.\n"
      ]
    },
    {
      "cell_type": "code",
      "metadata": {
        "origin_pos": 47,
        "tab": [
          "pytorch"
        ],
        "id": "w5v4mWOASGpQ",
        "outputId": "693bcbef-1e5b-4d29-f0a0-2bf00dfb0e0c",
        "colab": {
          "base_uri": "https://localhost:8080/"
        }
      },
      "source": [
        "net(X)"
      ],
      "execution_count": 12,
      "outputs": [
        {
          "output_type": "execute_result",
          "data": {
            "text/plain": [
              "tensor([[-0.7667],\n",
              "        [-0.7667]], device='cuda:0', grad_fn=<AddmmBackward>)"
            ]
          },
          "metadata": {
            "tags": []
          },
          "execution_count": 12
        }
      ]
    },
    {
      "cell_type": "markdown",
      "metadata": {
        "origin_pos": 48,
        "id": "LJAmbdimSGpQ"
      },
      "source": [
        "Let us (**confirm that the model parameters are stored on the same GPU.**)\n"
      ]
    },
    {
      "cell_type": "code",
      "metadata": {
        "origin_pos": 50,
        "tab": [
          "pytorch"
        ],
        "id": "HSjsx6I3SGpR",
        "outputId": "2d656e53-96a4-49c6-ad63-115e80a68db4",
        "colab": {
          "base_uri": "https://localhost:8080/"
        }
      },
      "source": [
        "net[0].weight.data.device"
      ],
      "execution_count": 13,
      "outputs": [
        {
          "output_type": "execute_result",
          "data": {
            "text/plain": [
              "device(type='cuda', index=0)"
            ]
          },
          "metadata": {
            "tags": []
          },
          "execution_count": 13
        }
      ]
    },
    {
      "cell_type": "markdown",
      "metadata": {
        "origin_pos": 52,
        "id": "d1vEalg0SGpR"
      },
      "source": [
        "In short, as long as all data and parameters are on the same device, we can learn models efficiently. In the following chapters we will see several such examples.\n",
        "\n",
        "## Summary\n",
        "\n",
        "* We can specify devices for storage and calculation, such as the CPU or GPU.\n",
        "  By default, data are created in the main memory\n",
        "  and then use the CPU for calculations.\n",
        "* The deep learning framework requires all input data for calculation\n",
        "  to be on the same device,\n",
        "  be it CPU or the same GPU.\n",
        "* You can lose significant performance by moving data without care.\n",
        "  A typical mistake is as follows: computing the loss\n",
        "  for every minibatch on the GPU and reporting it back\n",
        "  to the user on the command line (or logging it in a NumPy `ndarray`)\n",
        "  will trigger a global interpreter lock which stalls all GPUs.\n",
        "  It is much better to allocate memory\n",
        "  for logging inside the GPU and only move larger logs.\n",
        "\n",
        "## Exercises\n",
        "\n",
        "1. Try a larger computation task, such as the multiplication of large matrices,\n",
        "   and see the difference in speed between the CPU and GPU.\n",
        "   What about a task with a small amount of calculations?\n",
        "1. How should we read and write model parameters on the GPU?\n",
        "1. Measure the time it takes to compute 1000\n",
        "   matrix-matrix multiplications of $100 \\times 100$ matrices\n",
        "   and log the Frobenius norm of the output matrix one result at a time\n",
        "   vs. keeping a log on the GPU and transferring only the final result.\n",
        "1. Measure how much time it takes to perform two matrix-matrix multiplications\n",
        "   on two GPUs at the same time vs. in sequence\n",
        "   on one GPU. Hint: you should see almost linear scaling.\n"
      ]
    },
    {
      "cell_type": "markdown",
      "metadata": {
        "origin_pos": 54,
        "tab": [
          "pytorch"
        ],
        "id": "BqUzjgu-SGpR"
      },
      "source": [
        "[Discussions](https://discuss.d2l.ai/t/63)\n"
      ]
    }
  ]
}